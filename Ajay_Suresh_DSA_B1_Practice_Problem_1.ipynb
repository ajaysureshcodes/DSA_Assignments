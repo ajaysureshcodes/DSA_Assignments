{
  "nbformat": 4,
  "nbformat_minor": 0,
  "metadata": {
    "colab": {
      "provenance": []
    },
    "kernelspec": {
      "name": "python3",
      "display_name": "Python 3"
    },
    "language_info": {
      "name": "python"
    }
  },
  "cells": [
    {
      "cell_type": "markdown",
      "source": [
        "1. **Write a Python program which accepts the radius of a circle from the user\n",
        "and compute the area.**"
      ],
      "metadata": {
        "id": "kyt7RPNgKqMd"
      }
    },
    {
      "cell_type": "code",
      "execution_count": null,
      "metadata": {
        "colab": {
          "base_uri": "https://localhost:8080/"
        },
        "id": "CFRBPNssHTBU",
        "outputId": "d753508e-373f-4a5a-f844-00d526c7b02b"
      },
      "outputs": [
        {
          "output_type": "stream",
          "name": "stdout",
          "text": [
            "Enter the radius of the circle : 13\n",
            "Area of the circle is  530.929158456675\n"
          ]
        }
      ],
      "source": [
        "import math\n",
        "radius = float(input(\"Enter the radius of the circle : \"))\n",
        "circle_area = math.pi * radius**2\n",
        "print('Area of the circle is ', circle_area)"
      ]
    },
    {
      "cell_type": "markdown",
      "source": [
        "2. **Write a Python Program to accept the details of a student like name, roll\n",
        "number and mark and display it.**"
      ],
      "metadata": {
        "id": "4-cIKp5AK8_J"
      }
    },
    {
      "cell_type": "code",
      "source": [
        "def display_details():\n",
        "    name = input(\"Enter the name of the student : \")\n",
        "    roll_num = input(\"Enter the roll number : \")\n",
        "    marks = input(\"Enter the marks : \")\n",
        "    print('\\n')\n",
        "    print(\"Name of the student :\" + name)\n",
        "    print(\"Roll Number : \", roll_num)\n",
        "    print(\"Marks obtained : \", marks)\n",
        "display_details()"
      ],
      "metadata": {
        "colab": {
          "base_uri": "https://localhost:8080/"
        },
        "id": "QLrepj6nH6GE",
        "outputId": "4e5d04b5-c760-405e-c3d7-8ffda95dc61a"
      },
      "execution_count": null,
      "outputs": [
        {
          "output_type": "stream",
          "name": "stdout",
          "text": [
            "Enter the name of the student : Ajay Suresh\n",
            "Enter the roll number : B160936CH\n",
            "Enter the marks : 596\n",
            "\n",
            "\n",
            "Name of the student :Ajay Suresh\n",
            "Roll Number :  B160936CH\n",
            "Marks obtained :  596\n"
          ]
        }
      ]
    },
    {
      "cell_type": "markdown",
      "source": [
        "3. **Write a Python program to get the largest number from a list.**"
      ],
      "metadata": {
        "id": "IlG5yBTCOoFy"
      }
    },
    {
      "cell_type": "code",
      "source": [
        "list1 = []\n",
        "len = int(input('Enter the number of elements: '))\n",
        "print('Enter the elements:\\n')\n",
        "for i in range(len):\n",
        "    num = int(input())\n",
        "    list1.append(num)\n",
        "list1.sort()\n",
        "print('The largest element is: ', list1[-1])"
      ],
      "metadata": {
        "colab": {
          "base_uri": "https://localhost:8080/"
        },
        "id": "NyWgNQiRNTgs",
        "outputId": "46389e0f-7f28-44c6-aa2c-25caf9c74b1d"
      },
      "execution_count": null,
      "outputs": [
        {
          "output_type": "stream",
          "name": "stdout",
          "text": [
            "Enter the number of elements: 5\n",
            "Enter the elements:\n",
            "\n",
            "63\n",
            "25\n",
            "89\n",
            "36\n",
            "78\n",
            "The largest element is:  89\n"
          ]
        }
      ]
    },
    {
      "cell_type": "markdown",
      "source": [
        "4. **Given a range of first 10 numbers, write a Python program to iterate from\n",
        "start number to the end number and print the sum of the current number\n",
        "and previous number.**"
      ],
      "metadata": {
        "id": "4MFoT4vjHnmQ"
      }
    },
    {
      "cell_type": "code",
      "source": [
        "num = list(range(1,10+1))\n",
        "previous_num = 0\n",
        "for i in num:\n",
        "    sum = previous_num + i\n",
        "    print('Current Number ',(i))\n",
        "    print('Previous Number ',(previous_num))\n",
        "    print('Sum of numbers is ',(sum))\n",
        "    previous_num=i\n",
        "\n",
        "    #Alternatively\n",
        "    # for i in range(1,10+1):\n",
        "    # print(i+i-1, end=' ') //To print the sum list without the strings"
      ],
      "metadata": {
        "colab": {
          "base_uri": "https://localhost:8080/"
        },
        "id": "OoQb2Y8EFRKO",
        "outputId": "53d1f1e9-2906-4ec7-b7cc-4d1b1c3fc32a"
      },
      "execution_count": null,
      "outputs": [
        {
          "output_type": "stream",
          "name": "stdout",
          "text": [
            "Current Number  1\n",
            "Previous Number  0\n",
            "Sum of numbers is  1\n",
            "Current Number  2\n",
            "Previous Number  1\n",
            "Sum of numbers is  3\n",
            "Current Number  3\n",
            "Previous Number  2\n",
            "Sum of numbers is  5\n",
            "Current Number  4\n",
            "Previous Number  3\n",
            "Sum of numbers is  7\n",
            "Current Number  5\n",
            "Previous Number  4\n",
            "Sum of numbers is  9\n",
            "Current Number  6\n",
            "Previous Number  5\n",
            "Sum of numbers is  11\n",
            "Current Number  7\n",
            "Previous Number  6\n",
            "Sum of numbers is  13\n",
            "Current Number  8\n",
            "Previous Number  7\n",
            "Sum of numbers is  15\n",
            "Current Number  9\n",
            "Previous Number  8\n",
            "Sum of numbers is  17\n",
            "Current Number  10\n",
            "Previous Number  9\n",
            "Sum of numbers is  19\n"
          ]
        }
      ]
    },
    {
      "cell_type": "markdown",
      "source": [
        "5. **Write a Python program to print only those numbers which are divisible\n",
        "of 5.**"
      ],
      "metadata": {
        "id": "VtCU3gs7Mz9u"
      }
    },
    {
      "cell_type": "code",
      "source": [
        "len = int(input('Enter the number of elements: '))\n",
        "print('Enter the elements\\n')\n",
        "num = []\n",
        "for i in range(len):\n",
        "  inp = int(input())\n",
        "  if inp%5 == 0:\n",
        "    num.append(inp)\n",
        "print(num)"
      ],
      "metadata": {
        "colab": {
          "base_uri": "https://localhost:8080/"
        },
        "id": "WnOoIvHfKvlL",
        "outputId": "15a6e498-618e-42ea-d2b8-14324729c9a5"
      },
      "execution_count": null,
      "outputs": [
        {
          "output_type": "stream",
          "name": "stdout",
          "text": [
            "Enter the number of elements: 5\n",
            "Enter the elements\n",
            "\n",
            "65\n",
            "25\n",
            "63\n",
            "87\n",
            "95\n",
            "[65, 25, 95]\n"
          ]
        }
      ]
    },
    {
      "cell_type": "markdown",
      "source": [
        "6. **Write a Python program to check whether a number is prime or not.**"
      ],
      "metadata": {
        "id": "5-_AKDr9QDvv"
      }
    },
    {
      "cell_type": "code",
      "source": [
        "inp_num = int(input('Enter the number to be checked :'))\n",
        "flag = False\n",
        "for i in range(2,(inp_num//2)+1):\n",
        "    if inp_num%i == 0:\n",
        "      flag = True\n",
        "      break\n",
        "if flag:\n",
        "  print(inp_num,' is not a Prime number')\n",
        "else:\n",
        "  print(inp_num,' is a Prime number')"
      ],
      "metadata": {
        "colab": {
          "base_uri": "https://localhost:8080/"
        },
        "id": "oLCR5bMLNmJ6",
        "outputId": "aa6a134f-fee2-4f0b-98df-a7634bd0fa4e"
      },
      "execution_count": null,
      "outputs": [
        {
          "output_type": "stream",
          "name": "stdout",
          "text": [
            "Enter the number to be checked :13\n",
            "13  is a Prime number\n"
          ]
        }
      ]
    },
    {
      "cell_type": "markdown",
      "source": [
        "7. **Write a Python program to reverse a list using for loop.**"
      ],
      "metadata": {
        "id": "98eG3WuUWcVZ"
      }
    },
    {
      "cell_type": "code",
      "source": [
        "listold = []\n",
        "listnew = []\n",
        "len = int(input('Length of the list:'))\n",
        "for i in range(len):\n",
        "    num= int(input())\n",
        "    listold.append(num)\n",
        "for i in listold:\n",
        "  listnew.insert(0,i)\n",
        "print(\"Reversed list is \", listnew)"
      ],
      "metadata": {
        "colab": {
          "base_uri": "https://localhost:8080/"
        },
        "id": "1xMyoYwqRQib",
        "outputId": "e647027b-167a-4db1-ce56-e672a776f10b"
      },
      "execution_count": null,
      "outputs": [
        {
          "output_type": "stream",
          "name": "stdout",
          "text": [
            "Length of the list:4\n",
            "36\n",
            "58\n",
            "45\n",
            "78\n",
            "Reversed list is  [78, 45, 58, 36]\n"
          ]
        }
      ]
    },
    {
      "cell_type": "markdown",
      "source": [
        "8. **Write a Python program to print the following pattern.**"
      ],
      "metadata": {
        "id": "wndzv2iqZ7vY"
      }
    },
    {
      "cell_type": "code",
      "source": [
        "row_len = int(input(\"Enter the number of rows for the pattern: \"))\n",
        "for i in range(row_len+1):\n",
        "  print(\"*\"*i)"
      ],
      "metadata": {
        "colab": {
          "base_uri": "https://localhost:8080/"
        },
        "id": "vN7zqLmUXLN7",
        "outputId": "b9b67464-d387-435f-b11f-7a1fcf7f51de"
      },
      "execution_count": null,
      "outputs": [
        {
          "output_type": "stream",
          "name": "stdout",
          "text": [
            "Enter the number of rows for the pattern: 5\n",
            "\n",
            "*\n",
            "**\n",
            "***\n",
            "****\n",
            "*****\n"
          ]
        }
      ]
    },
    {
      "cell_type": "markdown",
      "source": [
        "9. **Write a Python program to find the maximum of three number**"
      ],
      "metadata": {
        "id": "mxk6Ek3obhy4"
      }
    },
    {
      "cell_type": "code",
      "source": [
        "list_us = []\n",
        "for i in range(3):\n",
        "  num = input(\"Enter elements: \")\n",
        "  list_us.append(num)\n",
        "list_us.sort()\n",
        "print('The biggest number is', list_us[-1])"
      ],
      "metadata": {
        "id": "XwrMP9BMbyuf",
        "colab": {
          "base_uri": "https://localhost:8080/"
        },
        "outputId": "9decfdb8-6d26-4a2f-b54f-2351713eacb8"
      },
      "execution_count": null,
      "outputs": [
        {
          "output_type": "stream",
          "name": "stdout",
          "text": [
            "Enter element :86\n",
            "Enter element :89\n",
            "Enter element :58\n",
            "The biggest number is 89\n"
          ]
        }
      ]
    },
    {
      "cell_type": "markdown",
      "source": [
        "10. **Write a Python program to construct the following pattern, using a\n",
        "nested for loop.**"
      ],
      "metadata": {
        "id": "5VyhDisYdRnk"
      }
    },
    {
      "cell_type": "code",
      "source": [
        "n=int(input('Enter the maximum number of ''*''s you need : '))\n",
        "for i in range(n):\n",
        "    for j in range(i):\n",
        "        print ('* ', end =\" \")\n",
        "    print('')\n",
        "for i in range(n,0,-1):\n",
        "    for j in range(i):\n",
        "        print('* ', end = \" \")\n",
        "    print('')"
      ],
      "metadata": {
        "colab": {
          "base_uri": "https://localhost:8080/"
        },
        "id": "oTM5DZKtcQON",
        "outputId": "2a75c5c6-fc20-43c0-8bc5-868b499da12a"
      },
      "execution_count": null,
      "outputs": [
        {
          "output_type": "stream",
          "name": "stdout",
          "text": [
            "Enter the number of *s you need : 5\n",
            "\n",
            "*  \n",
            "*  *  \n",
            "*  *  *  \n",
            "*  *  *  *  \n",
            "*  *  *  *  *  \n",
            "*  *  *  *  \n",
            "*  *  *  \n",
            "*  *  \n",
            "*  \n"
          ]
        }
      ]
    },
    {
      "cell_type": "markdown",
      "source": [
        "11. **Alternate solution for question 9.**"
      ],
      "metadata": {
        "id": "eX_I2xlo5wqI"
      }
    },
    {
      "cell_type": "code",
      "source": [
        "a,b,c = (input('Input three numbers: ')).split()\n",
        "if (a >= b) and (a >= c):\n",
        "  maxnum = a\n",
        "else:\n",
        "  if (b >= c):\n",
        "    maxnum = b\n",
        "  else:\n",
        "    maxnum = c\n",
        "print('The biggest number is ', maxnum)"
      ],
      "metadata": {
        "id": "sE7ke5hlre5o",
        "colab": {
          "base_uri": "https://localhost:8080/"
        },
        "outputId": "a81a3290-f5f0-43e6-b6d2-b5e9b3f98ac1"
      },
      "execution_count": null,
      "outputs": [
        {
          "output_type": "stream",
          "name": "stdout",
          "text": [
            "Input three numbers: 12 789 368\n",
            "The biggest number is  789\n"
          ]
        }
      ]
    },
    {
      "cell_type": "code",
      "source": [],
      "metadata": {
        "id": "Shu_-Hjx4hQG"
      },
      "execution_count": null,
      "outputs": []
    }
  ]
}