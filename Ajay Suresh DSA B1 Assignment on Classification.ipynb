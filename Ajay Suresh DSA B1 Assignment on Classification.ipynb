{
 "cells": [
  {
   "cell_type": "code",
   "execution_count": 1,
   "id": "81071b85",
   "metadata": {},
   "outputs": [],
   "source": [
    "import numpy as np\n",
    "import pandas as pd \n",
    "import matplotlib.pyplot as plt \n",
    "import seaborn as sns"
   ]
  },
  {
   "cell_type": "code",
   "execution_count": 2,
   "id": "38dc88b0",
   "metadata": {},
   "outputs": [],
   "source": [
    "data = pd.read_excel(r\"F:\\DSA\\Data Sets ICT\\Iris updated\\iris.xls\")"
   ]
  },
  {
   "cell_type": "code",
   "execution_count": 3,
   "id": "e380f6bd",
   "metadata": {},
   "outputs": [
    {
     "data": {
      "text/html": [
       "<div>\n",
       "<style scoped>\n",
       "    .dataframe tbody tr th:only-of-type {\n",
       "        vertical-align: middle;\n",
       "    }\n",
       "\n",
       "    .dataframe tbody tr th {\n",
       "        vertical-align: top;\n",
       "    }\n",
       "\n",
       "    .dataframe thead th {\n",
       "        text-align: right;\n",
       "    }\n",
       "</style>\n",
       "<table border=\"1\" class=\"dataframe\">\n",
       "  <thead>\n",
       "    <tr style=\"text-align: right;\">\n",
       "      <th></th>\n",
       "      <th>SL</th>\n",
       "      <th>SW</th>\n",
       "      <th>PL</th>\n",
       "      <th>PW</th>\n",
       "      <th>Classification</th>\n",
       "    </tr>\n",
       "  </thead>\n",
       "  <tbody>\n",
       "    <tr>\n",
       "      <th>0</th>\n",
       "      <td>5.1</td>\n",
       "      <td>3.5</td>\n",
       "      <td>1.4</td>\n",
       "      <td>0.2</td>\n",
       "      <td>Iris-setosa</td>\n",
       "    </tr>\n",
       "    <tr>\n",
       "      <th>1</th>\n",
       "      <td>4.9</td>\n",
       "      <td>3.0</td>\n",
       "      <td>1.4</td>\n",
       "      <td>0.2</td>\n",
       "      <td>Iris-setosa</td>\n",
       "    </tr>\n",
       "    <tr>\n",
       "      <th>2</th>\n",
       "      <td>NaN</td>\n",
       "      <td>3.2</td>\n",
       "      <td>1.3</td>\n",
       "      <td>0.2</td>\n",
       "      <td>Iris-setosa</td>\n",
       "    </tr>\n",
       "    <tr>\n",
       "      <th>3</th>\n",
       "      <td>4.6</td>\n",
       "      <td>3.1</td>\n",
       "      <td>1.5</td>\n",
       "      <td>0.2</td>\n",
       "      <td>Iris-setosa</td>\n",
       "    </tr>\n",
       "    <tr>\n",
       "      <th>4</th>\n",
       "      <td>5.0</td>\n",
       "      <td>3.6</td>\n",
       "      <td>1.4</td>\n",
       "      <td>0.2</td>\n",
       "      <td>Iris-setosa</td>\n",
       "    </tr>\n",
       "  </tbody>\n",
       "</table>\n",
       "</div>"
      ],
      "text/plain": [
       "    SL   SW   PL   PW Classification\n",
       "0  5.1  3.5  1.4  0.2    Iris-setosa\n",
       "1  4.9  3.0  1.4  0.2    Iris-setosa\n",
       "2  NaN  3.2  1.3  0.2    Iris-setosa\n",
       "3  4.6  3.1  1.5  0.2    Iris-setosa\n",
       "4  5.0  3.6  1.4  0.2    Iris-setosa"
      ]
     },
     "execution_count": 3,
     "metadata": {},
     "output_type": "execute_result"
    }
   ],
   "source": [
    "data.head()"
   ]
  },
  {
   "cell_type": "code",
   "execution_count": 4,
   "id": "24a507d1",
   "metadata": {},
   "outputs": [
    {
     "name": "stdout",
     "output_type": "stream",
     "text": [
      "<class 'pandas.core.frame.DataFrame'>\n",
      "RangeIndex: 150 entries, 0 to 149\n",
      "Data columns (total 5 columns):\n",
      " #   Column          Non-Null Count  Dtype  \n",
      "---  ------          --------------  -----  \n",
      " 0   SL              143 non-null    float64\n",
      " 1   SW              144 non-null    float64\n",
      " 2   PL              144 non-null    float64\n",
      " 3   PW              150 non-null    float64\n",
      " 4   Classification  150 non-null    object \n",
      "dtypes: float64(4), object(1)\n",
      "memory usage: 6.0+ KB\n"
     ]
    }
   ],
   "source": [
    "data.info()"
   ]
  },
  {
   "cell_type": "code",
   "execution_count": 5,
   "id": "a7e25456",
   "metadata": {},
   "outputs": [
    {
     "data": {
      "text/plain": [
       "150"
      ]
     },
     "execution_count": 5,
     "metadata": {},
     "output_type": "execute_result"
    }
   ],
   "source": [
    "data.shape[0]"
   ]
  },
  {
   "cell_type": "code",
   "execution_count": 6,
   "id": "17225c3e",
   "metadata": {},
   "outputs": [
    {
     "data": {
      "text/plain": [
       "SL                7\n",
       "SW                6\n",
       "PL                6\n",
       "PW                0\n",
       "Classification    0\n",
       "dtype: int64"
      ]
     },
     "execution_count": 6,
     "metadata": {},
     "output_type": "execute_result"
    }
   ],
   "source": [
    "data.isnull().sum()"
   ]
  },
  {
   "cell_type": "code",
   "execution_count": 7,
   "id": "1836b402",
   "metadata": {},
   "outputs": [
    {
     "data": {
      "text/html": [
       "<div>\n",
       "<style scoped>\n",
       "    .dataframe tbody tr th:only-of-type {\n",
       "        vertical-align: middle;\n",
       "    }\n",
       "\n",
       "    .dataframe tbody tr th {\n",
       "        vertical-align: top;\n",
       "    }\n",
       "\n",
       "    .dataframe thead th {\n",
       "        text-align: right;\n",
       "    }\n",
       "</style>\n",
       "<table border=\"1\" class=\"dataframe\">\n",
       "  <thead>\n",
       "    <tr style=\"text-align: right;\">\n",
       "      <th></th>\n",
       "      <th>SL</th>\n",
       "      <th>SW</th>\n",
       "      <th>PL</th>\n",
       "      <th>PW</th>\n",
       "      <th>Classification</th>\n",
       "    </tr>\n",
       "  </thead>\n",
       "  <tbody>\n",
       "    <tr>\n",
       "      <th>0</th>\n",
       "      <td>5.1</td>\n",
       "      <td>3.5</td>\n",
       "      <td>1.4</td>\n",
       "      <td>0.2</td>\n",
       "      <td>0</td>\n",
       "    </tr>\n",
       "    <tr>\n",
       "      <th>1</th>\n",
       "      <td>4.9</td>\n",
       "      <td>3.0</td>\n",
       "      <td>1.4</td>\n",
       "      <td>0.2</td>\n",
       "      <td>0</td>\n",
       "    </tr>\n",
       "    <tr>\n",
       "      <th>2</th>\n",
       "      <td>NaN</td>\n",
       "      <td>3.2</td>\n",
       "      <td>1.3</td>\n",
       "      <td>0.2</td>\n",
       "      <td>0</td>\n",
       "    </tr>\n",
       "    <tr>\n",
       "      <th>3</th>\n",
       "      <td>4.6</td>\n",
       "      <td>3.1</td>\n",
       "      <td>1.5</td>\n",
       "      <td>0.2</td>\n",
       "      <td>0</td>\n",
       "    </tr>\n",
       "    <tr>\n",
       "      <th>4</th>\n",
       "      <td>5.0</td>\n",
       "      <td>3.6</td>\n",
       "      <td>1.4</td>\n",
       "      <td>0.2</td>\n",
       "      <td>0</td>\n",
       "    </tr>\n",
       "    <tr>\n",
       "      <th>...</th>\n",
       "      <td>...</td>\n",
       "      <td>...</td>\n",
       "      <td>...</td>\n",
       "      <td>...</td>\n",
       "      <td>...</td>\n",
       "    </tr>\n",
       "    <tr>\n",
       "      <th>145</th>\n",
       "      <td>6.7</td>\n",
       "      <td>3.0</td>\n",
       "      <td>5.2</td>\n",
       "      <td>2.3</td>\n",
       "      <td>2</td>\n",
       "    </tr>\n",
       "    <tr>\n",
       "      <th>146</th>\n",
       "      <td>6.3</td>\n",
       "      <td>2.5</td>\n",
       "      <td>5.0</td>\n",
       "      <td>1.9</td>\n",
       "      <td>2</td>\n",
       "    </tr>\n",
       "    <tr>\n",
       "      <th>147</th>\n",
       "      <td>6.5</td>\n",
       "      <td>3.0</td>\n",
       "      <td>NaN</td>\n",
       "      <td>2.0</td>\n",
       "      <td>2</td>\n",
       "    </tr>\n",
       "    <tr>\n",
       "      <th>148</th>\n",
       "      <td>6.2</td>\n",
       "      <td>3.4</td>\n",
       "      <td>5.4</td>\n",
       "      <td>2.3</td>\n",
       "      <td>2</td>\n",
       "    </tr>\n",
       "    <tr>\n",
       "      <th>149</th>\n",
       "      <td>5.9</td>\n",
       "      <td>3.0</td>\n",
       "      <td>5.1</td>\n",
       "      <td>1.8</td>\n",
       "      <td>2</td>\n",
       "    </tr>\n",
       "  </tbody>\n",
       "</table>\n",
       "<p>150 rows × 5 columns</p>\n",
       "</div>"
      ],
      "text/plain": [
       "      SL   SW   PL   PW  Classification\n",
       "0    5.1  3.5  1.4  0.2               0\n",
       "1    4.9  3.0  1.4  0.2               0\n",
       "2    NaN  3.2  1.3  0.2               0\n",
       "3    4.6  3.1  1.5  0.2               0\n",
       "4    5.0  3.6  1.4  0.2               0\n",
       "..   ...  ...  ...  ...             ...\n",
       "145  6.7  3.0  5.2  2.3               2\n",
       "146  6.3  2.5  5.0  1.9               2\n",
       "147  6.5  3.0  NaN  2.0               2\n",
       "148  6.2  3.4  5.4  2.3               2\n",
       "149  5.9  3.0  5.1  1.8               2\n",
       "\n",
       "[150 rows x 5 columns]"
      ]
     },
     "execution_count": 7,
     "metadata": {},
     "output_type": "execute_result"
    }
   ],
   "source": [
    "import sklearn.preprocessing as sk\n",
    "le = sk.LabelEncoder()\n",
    "dummy = data.copy()\n",
    "dummy['Classification'] = le.fit_transform(dummy['Classification'])\n",
    "dummy"
   ]
  },
  {
   "cell_type": "code",
   "execution_count": 8,
   "id": "85a5b019",
   "metadata": {
    "scrolled": false
   },
   "outputs": [
    {
     "data": {
      "image/png": "[encoded data removed]",
      "text/plain": [
       "<Figure size 640x480 with 2 Axes>"
      ]
     },
     "metadata": {},
     "output_type": "display_data"
    }
   ],
   "source": [
    "sns.heatmap(dummy.corr(), annot = True, cmap = 'YlGnBu')\n",
    "plt.show()"
   ]
  },
  {
   "cell_type": "code",
   "execution_count": 9,
   "id": "1088db37",
   "metadata": {
    "scrolled": false
   },
   "outputs": [
    {
     "data": {
      "image/png": "[encoded data removed]",
      "text/plain": [
       "<Figure size 1000x600 with 4 Axes>"
      ]
     },
     "metadata": {},
     "output_type": "display_data"
    }
   ],
   "source": [
    "graphs = data.select_dtypes(include = 'float64')\n",
    "graphs.hist(figsize = (10,6))\n",
    "plt.show()"
   ]
  },
  {
   "cell_type": "code",
   "execution_count": 10,
   "id": "f6ffc14d",
   "metadata": {},
   "outputs": [],
   "source": [
    "data['SW'] = data['SW'].fillna(data['SW'].mode()[0])\n",
    "data['SL'] = data['SL'].fillna(data.groupby('Classification')['SL'].transform('median'))\n",
    "data['PL'] = data['PL'].fillna(data.groupby('Classification')['PL'].transform('median'))"
   ]
  },
  {
   "cell_type": "code",
   "execution_count": 11,
   "id": "9568073a",
   "metadata": {},
   "outputs": [
    {
     "data": {
      "text/plain": [
       "SL                0\n",
       "SW                0\n",
       "PL                0\n",
       "PW                0\n",
       "Classification    0\n",
       "dtype: int64"
      ]
     },
     "execution_count": 11,
     "metadata": {},
     "output_type": "execute_result"
    }
   ],
   "source": [
    "data.isnull().sum()"
   ]
  },
  {
   "cell_type": "code",
   "execution_count": 12,
   "id": "89a51f49",
   "metadata": {},
   "outputs": [
    {
     "data": {
      "text/plain": [
       "Classification\n",
       "Iris-setosa        50\n",
       "Iris-versicolor    50\n",
       "Iris-virginica     50\n",
       "Name: count, dtype: int64"
      ]
     },
     "execution_count": 12,
     "metadata": {},
     "output_type": "execute_result"
    }
   ],
   "source": [
    "data['Classification'].value_counts()"
   ]
  },
  {
   "cell_type": "code",
   "execution_count": 13,
   "id": "089b43e6",
   "metadata": {},
   "outputs": [
    {
     "name": "stdout",
     "output_type": "stream",
     "text": [
      "<class 'pandas.core.frame.DataFrame'>\n",
      "RangeIndex: 150 entries, 0 to 149\n",
      "Data columns (total 5 columns):\n",
      " #   Column          Non-Null Count  Dtype  \n",
      "---  ------          --------------  -----  \n",
      " 0   SL              150 non-null    float64\n",
      " 1   SW              150 non-null    float64\n",
      " 2   PL              150 non-null    float64\n",
      " 3   PW              150 non-null    float64\n",
      " 4   Classification  150 non-null    object \n",
      "dtypes: float64(4), object(1)\n",
      "memory usage: 6.0+ KB\n"
     ]
    }
   ],
   "source": [
    "data.info()"
   ]
  },
  {
   "cell_type": "code",
   "execution_count": 14,
   "id": "c48fe3ac",
   "metadata": {},
   "outputs": [],
   "source": [
    "#Importing relevant scores and metrics\n",
    "\n",
    "from sklearn.metrics import accuracy_score, confusion_matrix, precision_score, recall_score, f1_score"
   ]
  },
  {
   "cell_type": "code",
   "execution_count": 15,
   "id": "c5aa10b3",
   "metadata": {},
   "outputs": [],
   "source": [
    "#Splitting data for training and testing\n",
    "\n",
    "from sklearn.model_selection import train_test_split\n",
    "\n",
    "y = data['Classification']\n",
    "x = data.drop(['Classification', 'SW'], axis = 1)\n",
    "x_train, x_test, y_train, y_test = train_test_split(x, y, test_size = 0.3, random_state = 4)"
   ]
  },
  {
   "cell_type": "markdown",
   "id": "81ca208c",
   "metadata": {},
   "source": [
    "1. METHOD 1: APPLYING EACH CLASSIFIER AND COMPARING EACH ACCURACY WITH AVERAGE PARAMETER 'macro"
   ]
  },
  {
   "cell_type": "code",
   "execution_count": 16,
   "id": "5d5fbcbe",
   "metadata": {},
   "outputs": [],
   "source": [
    "1. #Logistic Regression and Prediction\n",
    "\n",
    "from sklearn.linear_model import LogisticRegression\n",
    "log_reg = LogisticRegression()\n",
    "log_reg.fit(x_train, y_train)\n",
    "y_pred_log = log_reg.predict(x_test)"
   ]
  },
  {
   "cell_type": "code",
   "execution_count": 17,
   "id": "f1184a00",
   "metadata": {},
   "outputs": [
    {
     "name": "stdout",
     "output_type": "stream",
     "text": [
      "Accuracy: 0.9777777777777777\n",
      "Precision: 0.9777777777777779\n",
      "Recall Score: 0.9666666666666667\n",
      "F1 Score: 0.9709618874773139\n"
     ]
    }
   ],
   "source": [
    "print(\"Accuracy:\", accuracy_score(y_test, y_pred_log))\n",
    "print(\"Precision:\", precision_score(y_test, y_pred_log, average = 'macro'))\n",
    "print(\"Recall Score:\", recall_score(y_test, y_pred_log, average = 'macro'))\n",
    "print(\"F1 Score:\", f1_score(y_test, y_pred_log, average = 'macro'))"
   ]
  },
  {
   "cell_type": "code",
   "execution_count": 18,
   "id": "81e4b25a",
   "metadata": {},
   "outputs": [
    {
     "data": {
      "text/plain": [
       "array([[21,  0,  0],\n",
       "       [ 0,  9,  1],\n",
       "       [ 0,  0, 14]], dtype=int64)"
      ]
     },
     "execution_count": 18,
     "metadata": {},
     "output_type": "execute_result"
    }
   ],
   "source": [
    "confusion_matrix(y_test, y_pred_log)"
   ]
  },
  {
   "cell_type": "code",
   "execution_count": 19,
   "id": "3b180037",
   "metadata": {},
   "outputs": [
    {
     "data": {
      "text/plain": [
       "array([[21,  0,  0],\n",
       "       [ 0,  6,  4],\n",
       "       [ 0,  0, 14]], dtype=int64)"
      ]
     },
     "execution_count": 19,
     "metadata": {},
     "output_type": "execute_result"
    }
   ],
   "source": [
    "2. #Logistic Regression on Scaled data\n",
    "\n",
    "from sklearn.preprocessing import StandardScaler\n",
    "scaler = StandardScaler()\n",
    "x_test_scaled = scaler.fit_transform(x_test)\n",
    "x_train_scaled = scaler.fit_transform(x_train)\n",
    "log_reg.fit(x_train_scaled, y_train)\n",
    "y_pred_log_scaled = log_reg.predict(x_test_scaled)\n",
    "confusion_matrix(y_test, y_pred_log_scaled)"
   ]
  },
  {
   "cell_type": "code",
   "execution_count": 20,
   "id": "df5c8b29",
   "metadata": {},
   "outputs": [
    {
     "name": "stdout",
     "output_type": "stream",
     "text": [
      "Accuracy: 0.9111111111111111\n",
      "Precision: 0.9259259259259259\n",
      "Recall Score: 0.8666666666666667\n",
      "F1 Score: 0.875\n"
     ]
    }
   ],
   "source": [
    "print(\"Accuracy:\", accuracy_score(y_test, y_pred_log_scaled))\n",
    "print(\"Precision:\", precision_score(y_test, y_pred_log_scaled, average = 'macro'))\n",
    "print(\"Recall Score:\", recall_score(y_test, y_pred_log_scaled, average = 'macro'))\n",
    "print(\"F1 Score:\", f1_score(y_test, y_pred_log_scaled, average = 'macro'))"
   ]
  },
  {
   "cell_type": "code",
   "execution_count": 21,
   "id": "d1e0d622",
   "metadata": {},
   "outputs": [
    {
     "name": "stdout",
     "output_type": "stream",
     "text": [
      "Best Parameters: {'C': 1, 'class_weight': 'balanced', 'penalty': 'l1', 'solver': 'saga'}\n",
      "Best Accuracy: 0.9714285714285713\n",
      "Test Accuracy: 0.9777777777777777\n"
     ]
    }
   ],
   "source": [
    "#Grid Search for best Logistic Regression using GridSearchCV\n",
    "\n",
    "from sklearn.model_selection import GridSearchCV\n",
    "from sklearn.exceptions import ConvergenceWarning\n",
    "import warnings\n",
    "\n",
    "warnings.filterwarnings(\"ignore\", category=ConvergenceWarning)\n",
    "\n",
    "param_grid = {\n",
    "    'C': [0.001, 0.01, 0.1, 1, 10],  \n",
    "    'penalty': ['l1', 'l2'],  \n",
    "    'solver': ['liblinear', 'saga'],  \n",
    "    'class_weight': [None, 'balanced'] \n",
    "}\n",
    "\n",
    "\n",
    "log_reg = LogisticRegression(max_iter=1000)  \n",
    "grid_search = GridSearchCV(estimator=log_reg, param_grid=param_grid, cv=5, scoring='accuracy')\n",
    "grid_search.fit(x_train, y_train)\n",
    "\n",
    "best_params = grid_search.best_params_\n",
    "best_accuracy = grid_search.best_score_\n",
    "print(\"Best Parameters:\", best_params)\n",
    "print(\"Best Accuracy:\", best_accuracy)\n",
    "\n",
    "best_log_reg = LogisticRegression(**best_params, max_iter=1000)  \n",
    "best_log_reg.fit(x_train, y_train)\n",
    "y_pred = best_log_reg.predict(x_test)\n",
    "\n",
    "test_accuracy = accuracy_score(y_test, y_pred)\n",
    "print(\"Test Accuracy:\", test_accuracy)"
   ]
  },
  {
   "cell_type": "code",
   "execution_count": 22,
   "id": "264371f9",
   "metadata": {},
   "outputs": [
    {
     "data": {
      "image/png": "[encoded data removed]",
      "text/plain": [
       "<Figure size 640x480 with 1 Axes>"
      ]
     },
     "metadata": {},
     "output_type": "display_data"
    }
   ],
   "source": [
    "3. #k-NN Method\n",
    "\n",
    "from sklearn.neighbors import KNeighborsClassifier\n",
    "metric_k = []\n",
    "neighbors = np.arange(3,15) #Testing best k\n",
    "for k in neighbors:\n",
    "    classifier = KNeighborsClassifier(n_neighbors = k, metric = 'minkowski', p = 2)\n",
    "    classifier.fit(x_train, y_train)\n",
    "    y_pred_knn = classifier.predict(x_test)\n",
    "    accuracy = accuracy_score(y_test, y_pred_knn)\n",
    "    metric_k.append(accuracy)\n",
    "\n",
    "#Plotting k versus accuracy to find best k\n",
    "plt.plot(neighbors, metric_k, 'o-')\n",
    "plt.xlabel(\"K Value\")\n",
    "plt.ylabel(\"Accuracy\")\n",
    "plt.show()"
   ]
  },
  {
   "cell_type": "code",
   "execution_count": 25,
   "id": "1915d369",
   "metadata": {},
   "outputs": [
    {
     "name": "stdout",
     "output_type": "stream",
     "text": [
      "Accuracy: 0.9777777777777777\n",
      "Precision: 0.9777777777777779\n",
      "Recall Score: 0.9666666666666667\n",
      "F1 Score: 0.9709618874773139\n",
      "\n",
      "Confusion Matrix\n",
      "[[21  0  0]\n",
      " [ 0  9  1]\n",
      " [ 0  0 14]]\n"
     ]
    }
   ],
   "source": [
    "classifier = KNeighborsClassifier(n_neighbors=5, metric = 'minkowski', p = 2)\n",
    "classifier.fit(x_train, y_train)\n",
    "y_pred_knn = classifier.predict(x_test)\n",
    "print(\"Accuracy:\", accuracy_score(y_test, y_pred_knn))\n",
    "print(\"Precision:\", precision_score(y_test, y_pred_knn, average = 'macro'))\n",
    "print(\"Recall Score:\", recall_score(y_test, y_pred_knn, average = 'macro'))\n",
    "print(\"F1 Score:\", f1_score(y_test, y_pred_knn, average = 'macro'))\n",
    "print(f\"\\nConfusion Matrix\\n{confusion_matrix(y_test, y_pred_knn)}\")"
   ]
  },
  {
   "cell_type": "code",
   "execution_count": 26,
   "id": "0abd8f53",
   "metadata": {},
   "outputs": [
    {
     "name": "stdout",
     "output_type": "stream",
     "text": [
      "Best Parameters: {'metric': 'euclidean', 'n_neighbors': 3}\n",
      "Best Accuracy: 0.9714285714285713\n",
      "Test Accuracy: 0.9777777777777777\n"
     ]
    }
   ],
   "source": [
    "#Iteration for best hyperparameters using GridSearchCV for k-Nearest Neighbors\n",
    "\n",
    "from sklearn.model_selection import GridSearchCV\n",
    "\n",
    "param_grid = {\n",
    "    'n_neighbors': [3, 5, 7],\n",
    "    'metric': ['euclidean', 'manhattan', 'minkowski']  # Different distance metrics\n",
    "}\n",
    "\n",
    "knn = KNeighborsClassifier()\n",
    "grid_search = GridSearchCV(estimator=knn, param_grid=param_grid, cv=5, scoring='accuracy')\n",
    "grid_search.fit(x_train, y_train)\n",
    "\n",
    "best_params = grid_search.best_params_\n",
    "best_accuracy = grid_search.best_score_\n",
    "\n",
    "print(\"Best Parameters:\", best_params)\n",
    "print(\"Best Accuracy:\", best_accuracy)\n",
    "best_knn = KNeighborsClassifier(**best_params)\n",
    "best_knn.fit(x_train, y_train)\n",
    "\n",
    "y_pred = best_knn.predict(x_test)\n",
    "test_accuracy = accuracy_score(y_test, y_pred)\n",
    "print(\"Test Accuracy:\", test_accuracy)"
   ]
  },
  {
   "cell_type": "code",
   "execution_count": 27,
   "id": "06de9c43",
   "metadata": {},
   "outputs": [
    {
     "name": "stdout",
     "output_type": "stream",
     "text": [
      "\n",
      "Kernel : linear\n",
      "Accuracy: 0.9777777777777777\n",
      "Precision: 0.9777777777777779\n",
      "Recall Score: 0.9666666666666667\n",
      "F1 Score: 0.9709618874773139\n",
      "[[21  0  0]\n",
      " [ 0  9  1]\n",
      " [ 0  0 14]]\n",
      "\n",
      "Kernel : poly\n",
      "Accuracy: 0.9777777777777777\n",
      "Precision: 0.9777777777777779\n",
      "Recall Score: 0.9666666666666667\n",
      "F1 Score: 0.9709618874773139\n",
      "[[21  0  0]\n",
      " [ 0  9  1]\n",
      " [ 0  0 14]]\n",
      "\n",
      "Kernel : rbf\n",
      "Accuracy: 0.9777777777777777\n",
      "Precision: 0.9777777777777779\n",
      "Recall Score: 0.9666666666666667\n",
      "F1 Score: 0.9709618874773139\n",
      "[[21  0  0]\n",
      " [ 0  9  1]\n",
      " [ 0  0 14]]\n",
      "\n",
      "Kernel : sigmoid\n",
      "Accuracy: 0.9777777777777777\n",
      "Precision: 0.9777777777777779\n",
      "Recall Score: 0.9666666666666667\n",
      "F1 Score: 0.9709618874773139\n",
      "[[21  0  0]\n",
      " [ 0  9  1]\n",
      " [ 0  0 14]]\n",
      "\n",
      "Kernel : precomputed\n",
      "Accuracy: 0.9777777777777777\n",
      "Precision: 0.9777777777777779\n",
      "Recall Score: 0.9666666666666667\n",
      "F1 Score: 0.9709618874773139\n",
      "[[21  0  0]\n",
      " [ 0  9  1]\n",
      " [ 0  0 14]]\n"
     ]
    }
   ],
   "source": [
    "4. #SVM MODEL\n",
    "#Basic iteration of kernals\n",
    "\n",
    "from sklearn.svm import SVC\n",
    "kernels = ['linear', 'poly', 'rbf', 'sigmoid', 'precomputed']\n",
    "for value in kernels:\n",
    "    sv_cl = SVC(kernel='rbf', gamma='auto')\n",
    "    sv_cl.fit(x_train, y_train)\n",
    "    y_pred_svc = sv_cl.predict(x_test)\n",
    "    print(f\"\\nKernel : { value }\")\n",
    "    print(\"Accuracy:\", accuracy_score(y_test, y_pred_svc))\n",
    "    print(\"Precision:\", precision_score(y_test, y_pred_svc, average = 'macro'))\n",
    "    print(\"Recall Score:\", recall_score(y_test, y_pred_svc, average = 'macro'))\n",
    "    print(\"F1 Score:\", f1_score(y_test, y_pred_svc, average = 'macro'))\n",
    "    print(confusion_matrix(y_test, y_pred_svc))"
   ]
  },
  {
   "cell_type": "code",
   "execution_count": 28,
   "id": "7416fcf9",
   "metadata": {},
   "outputs": [
    {
     "name": "stdout",
     "output_type": "stream",
     "text": [
      "Total number of SVC models: 216\n",
      "Best hyperparameters: (0.1, 'linear', 'scale', 2, None, True)\n",
      "Accuracy with best hyperparameters: 0.9778\n"
     ]
    }
   ],
   "source": [
    "#SVC Cross evaluation for finding best parameters\n",
    "\n",
    "C_values = [0.1, 1.0, 10.0]\n",
    "kernel_values = ['linear', 'rbf', 'poly']\n",
    "gamma_values = ['scale', 'auto']\n",
    "degree_values = [2, 3, 4]\n",
    "class_weight_values = [None, 'balanced']\n",
    "probability_values = [True, False]\n",
    "\n",
    "\n",
    "svc_models = {}\n",
    "svc_accuracies = {}\n",
    "\n",
    "for C in C_values:\n",
    "    for kernel in kernel_values:\n",
    "        for gamma in gamma_values:\n",
    "            for degree in degree_values:\n",
    "                for class_weight in class_weight_values:\n",
    "                    for probability in probability_values:\n",
    "                        svc_model = SVC(C=C, kernel=kernel, gamma=gamma, degree=degree, class_weight=class_weight, probability=probability)\n",
    "                        svc_model.fit(x_train, y_train)\n",
    "                        y_pred = svc_model.predict(x_test)\n",
    "                        accuracy = accuracy_score(y_test, y_pred)\n",
    "                        key = (C, kernel, gamma, degree, class_weight, probability)\n",
    "                        svc_models[key] = svc_model\n",
    "                        svc_accuracies[key] = accuracy\n",
    "                        \n",
    "print(f\"Total number of SVC models: {len(svc_models)}\")\n",
    "best_hyperparameters = max(svc_accuracies, key=svc_accuracies.get)\n",
    "best_accuracy = svc_accuracies[best_hyperparameters]\n",
    "\n",
    "print(f\"Best hyperparameters: {best_hyperparameters}\")\n",
    "print(f\"Accuracy with best hyperparameters: {best_accuracy:.4f}\")"
   ]
  },
  {
   "cell_type": "code",
   "execution_count": 29,
   "id": "141f4f20",
   "metadata": {},
   "outputs": [
    {
     "name": "stdout",
     "output_type": "stream",
     "text": [
      "Accuracy: 0.9777777777777777\n",
      "Precision: 0.9777777777777779\n",
      "Recall Score: 0.9666666666666667\n",
      "F1 Score: 0.9709618874773139\n",
      "Confusion Matrix \n",
      " [[21  0  0]\n",
      " [ 0  9  1]\n",
      " [ 0  0 14]]\n"
     ]
    }
   ],
   "source": [
    "5. #DECISION TREE\n",
    "\n",
    "from sklearn.tree import DecisionTreeClassifier\n",
    "dt_clf = DecisionTreeClassifier(random_state = 4)\n",
    "dt_clf.fit(x_train, y_train)\n",
    "y_pred_dt = dt_clf.predict(x_test)\n",
    "print(\"Accuracy:\", accuracy_score(y_test, y_pred_dt))\n",
    "print(\"Precision:\", precision_score(y_test, y_pred_dt, average = 'macro'))\n",
    "print(\"Recall Score:\", recall_score(y_test, y_pred_dt, average = 'macro'))\n",
    "print(\"F1 Score:\", f1_score(y_test, y_pred_dt, average = 'macro'))\n",
    "print(f\"Confusion Matrix \\n {confusion_matrix(y_test, y_pred_dt)}\")"
   ]
  },
  {
   "cell_type": "code",
   "execution_count": 30,
   "id": "f5a1eea6",
   "metadata": {},
   "outputs": [
    {
     "name": "stdout",
     "output_type": "stream",
     "text": [
      "Total number of Decision Tree models: 72\n",
      "Best hyperparameters: ('gini', 10, 2, 1, 'log2')\n",
      "Accuracy with best hyperparameters: 1.0000\n"
     ]
    }
   ],
   "source": [
    "#Iteration for finding best Parameters in Decision Tree\n",
    "criterion_values = ['gini', 'entropy']\n",
    "max_depth_values = [None, 10, 20]\n",
    "min_samples_split_values = [2, 5]\n",
    "min_samples_leaf_values = [1, 2]\n",
    "max_features_values = [None, 'sqrt', 'log2']\n",
    "\n",
    "\n",
    "dt_models = {}\n",
    "dt_accuracies = {}\n",
    "\n",
    "\n",
    "for criterion in criterion_values:\n",
    "    for max_depth in max_depth_values:\n",
    "        for min_samples_split in min_samples_split_values:\n",
    "            for min_samples_leaf in min_samples_leaf_values:\n",
    "                for max_features in max_features_values:\n",
    "                    dt_model = DecisionTreeClassifier(criterion=criterion, max_depth=max_depth,\n",
    "                                                      min_samples_split=min_samples_split,\n",
    "                                                      min_samples_leaf=min_samples_leaf,\n",
    "                                                      max_features=max_features)\n",
    "                    dt_model.fit(x_train, y_train)\n",
    "                    y_pred = dt_model.predict(x_test)\n",
    "                    accuracy = accuracy_score(y_test, y_pred)\n",
    "                    \n",
    "                    key = (criterion, max_depth, min_samples_split, min_samples_leaf, max_features)\n",
    "                    dt_models[key] = dt_model\n",
    "                    dt_accuracies[key] = accuracy\n",
    "\n",
    "print(f\"Total number of Decision Tree models: {len(dt_models)}\")\n",
    "best_hyperparameters = max(dt_accuracies, key=dt_accuracies.get)\n",
    "best_accuracy = dt_accuracies[best_hyperparameters]\n",
    "\n",
    "print(f\"Best hyperparameters: {best_hyperparameters}\")\n",
    "print(f\"Accuracy with best hyperparameters: {best_accuracy:.4f}\")"
   ]
  },
  {
   "cell_type": "code",
   "execution_count": 31,
   "id": "c5bc644e",
   "metadata": {},
   "outputs": [
    {
     "name": "stdout",
     "output_type": "stream",
     "text": [
      "Accuracy: 0.9777777777777777\n",
      "Precision: 0.9777777777777779\n",
      "Recall Score: 0.9666666666666667\n",
      "F1 Score: 0.9709618874773139\n",
      "Confusion Matrix \n",
      " [[21  0  0]\n",
      " [ 0  9  1]\n",
      " [ 0  0 14]]\n"
     ]
    }
   ],
   "source": [
    "6. #RANDOM FOREST\n",
    "\n",
    "#Hyper Parameter Tuning\n",
    "from sklearn.ensemble import RandomForestClassifier\n",
    "rf_clf = RandomForestClassifier(n_estimators = 20, max_depth = 20, criterion = 'entropy', min_samples_split = 3)\n",
    "rf_clf.fit(x_train, y_train)\n",
    "y_pred_rf = rf_clf.predict(x_test)\n",
    "print(\"Accuracy:\", accuracy_score(y_test, y_pred_rf))\n",
    "print(\"Precision:\", precision_score(y_test, y_pred_rf, average = 'macro'))\n",
    "print(\"Recall Score:\", recall_score(y_test, y_pred_rf, average = 'macro'))\n",
    "print(\"F1 Score:\", f1_score(y_test, y_pred_rf, average = 'macro'))\n",
    "print(f\"Confusion Matrix \\n {confusion_matrix(y_test, y_pred_rf)}\")"
   ]
  },
  {
   "cell_type": "code",
   "execution_count": 32,
   "id": "1c0a29ca",
   "metadata": {},
   "outputs": [
    {
     "name": "stdout",
     "output_type": "stream",
     "text": [
      "Total number of Random Forest models: 144\n",
      "Best hyperparameters: (10, None, 'gini', 2, 1, None)\n",
      "Accuracy with best hyperparameters: 0.9778\n"
     ]
    }
   ],
   "source": [
    "#Iteration for best parameters in Random Forest Classifier\n",
    "\n",
    "n_estimators_values = [10, 20]\n",
    "max_depth_values = [None, 10, 20]\n",
    "criterion_values = ['gini', 'entropy']\n",
    "min_samples_split_values = [2, 5]\n",
    "min_samples_leaf_values = [1, 2]\n",
    "max_features_values = [None, 'sqrt', 'log2']\n",
    "\n",
    "rf_models = {}\n",
    "rf_accuracies = {}\n",
    "for n_estimators in n_estimators_values:\n",
    "    for max_depth in max_depth_values:\n",
    "        for criterion in criterion_values:\n",
    "            for min_samples_split in min_samples_split_values:\n",
    "                for min_samples_leaf in min_samples_leaf_values:\n",
    "                    for max_features in max_features_values:\n",
    "                        rf_model = RandomForestClassifier(n_estimators=n_estimators, max_depth=max_depth,\n",
    "                                                           criterion=criterion, min_samples_split=min_samples_split,\n",
    "                                                           min_samples_leaf=min_samples_leaf, max_features=max_features)\n",
    "                        rf_model.fit(x_train, y_train)\n",
    "                        y_pred = rf_model.predict(x_test)\n",
    "                        accuracy = accuracy_score(y_test, y_pred)\n",
    "                        key = (n_estimators, max_depth, criterion, min_samples_split, min_samples_leaf, max_features)\n",
    "                        rf_models[key] = rf_model\n",
    "                        rf_accuracies[key] = accuracy\n",
    "\n",
    "print(f\"Total number of Random Forest models: {len(rf_models)}\")\n",
    "best_hyperparameters = max(rf_accuracies, key=rf_accuracies.get)\n",
    "best_accuracy = rf_accuracies[best_hyperparameters]\n",
    "\n",
    "print(f\"Best hyperparameters: {best_hyperparameters}\")\n",
    "print(f\"Accuracy with best hyperparameters: {best_accuracy:.4f}\")"
   ]
  },
  {
   "cell_type": "code",
   "execution_count": 33,
   "id": "20b52dd4",
   "metadata": {
    "scrolled": false
   },
   "outputs": [
    {
     "name": "stdout",
     "output_type": "stream",
     "text": [
      "\n",
      "Model: Logistic Regression\n",
      "Accuracy: 0.9778\n",
      "F1 Score: 0.9710\n",
      "Recall: 0.9667\n",
      "Precision: 0.9778\n",
      "\n",
      "Model: Scaled Logistic Regression\n",
      "Accuracy: 0.9111\n",
      "F1 Score: 0.8750\n",
      "Recall: 0.8667\n",
      "Precision: 0.9259\n",
      "\n",
      "Model: k-NN\n",
      "Accuracy: 0.9778\n",
      "F1 Score: 0.9710\n",
      "Recall: 0.9667\n",
      "Precision: 0.9778\n",
      "\n",
      "Model: SVC\n",
      "Accuracy: 0.9778\n",
      "F1 Score: 0.9710\n",
      "Recall: 0.9667\n",
      "Precision: 0.9778\n",
      "\n",
      "Model: Decision Tree\n",
      "Accuracy: 0.9778\n",
      "F1 Score: 0.9710\n",
      "Recall: 0.9667\n",
      "Precision: 0.9778\n",
      "\n",
      "Model: Random Forest\n",
      "Accuracy: 0.9778\n",
      "F1 Score: 0.9710\n",
      "Recall: 0.9667\n",
      "Precision: 0.9778\n",
      "\n",
      "Best Model: Logistic Regression\n"
     ]
    }
   ],
   "source": [
    "#Comparison of each metrics from applying the classifier indidually and finding the best \n",
    "\n",
    "predictions = [y_pred_log, y_pred_log_scaled, y_pred_knn, y_pred_svc, y_pred_dt, y_pred_rf]\n",
    "model_names = [\"Logistic Regression\", \"Scaled Logistic Regression\", \"k-NN\", \"SVC\", \"Decision Tree\", \"Random Forest\"]\n",
    "accuracy_scores = {}\n",
    "f1_scores = {}\n",
    "recall_scores = {}\n",
    "precision_scores = {}\n",
    "\n",
    "for model_name, y_pred in zip(model_names, predictions):\n",
    "    accuracy = accuracy_score(y_test, y_pred)\n",
    "    f1 = f1_score(y_test, y_pred, average='macro')\n",
    "    recall = recall_score(y_test, y_pred, average='macro')\n",
    "    precision = precision_score(y_test, y_pred, average='macro')\n",
    "  \n",
    "    accuracy_scores[model_name] = accuracy\n",
    "    f1_scores[model_name] = f1\n",
    "    recall_scores[model_name] = recall\n",
    "    precision_scores[model_name] = precision\n",
    "\n",
    "    print(f\"\\nModel: {model_name}\")\n",
    "    print(f\"Accuracy: {accuracy:.4f}\")\n",
    "    print(f\"F1 Score: {f1:.4f}\")\n",
    "    print(f\"Recall: {recall:.4f}\")\n",
    "    print(f\"Precision: {precision:.4f}\")\n",
    "\n",
    "best_model_name = max(accuracy_scores, key=accuracy_scores.get)\n",
    "best_accuracy = accuracy_scores[best_model_name]\n",
    "print(f\"\\nBest Model: {best_model_name}\")"
   ]
  },
  {
   "cell_type": "markdown",
   "id": "91d522f0",
   "metadata": {},
   "source": [
    "#NOTE THAT APART FROM SCALED LOGISTIC REGRESSION REST OF THE METHODS HAVE SAME ACCURACY"
   ]
  },
  {
   "cell_type": "markdown",
   "id": "6129c420",
   "metadata": {},
   "source": [
    "1. RANDOM APPROACH(I) : FUNCTION AND SELECTED SEEDS WITH SCORE PARAMETER 'macro' FOR SELECTED CLASSIFIERS AND HYPER PARAMETERS"
   ]
  },
  {
   "cell_type": "code",
   "execution_count": 34,
   "id": "e5483e44",
   "metadata": {
    "scrolled": false
   },
   "outputs": [
    {
     "name": "stdout",
     "output_type": "stream",
     "text": [
      "SEED = 4\n",
      "\n",
      "\n",
      "Model: k-NN\n",
      "Accuracy: 0.9778\n",
      "F1 Score: 0.9710\n",
      "Recall: 0.9667\n",
      "Precision: 0.9778\n",
      "\n",
      "Model: Decision Tree\n",
      "Accuracy: 0.9778\n",
      "F1 Score: 0.9710\n",
      "Recall: 0.9667\n",
      "Precision: 0.9778\n",
      "\n",
      "Model: Logistic Regression\n",
      "Accuracy: 0.9778\n",
      "F1 Score: 0.9710\n",
      "Recall: 0.9667\n",
      "Precision: 0.9778\n",
      "\n",
      "Model: Random Forest\n",
      "Accuracy: 0.9778\n",
      "F1 Score: 0.9710\n",
      "Recall: 0.9667\n",
      "Precision: 0.9778\n",
      "\n",
      "Model: SVC\n",
      "Accuracy: 0.9778\n",
      "F1 Score: 0.9710\n",
      "Recall: 0.9667\n",
      "Precision: 0.9778\n",
      "\n",
      "Best Model of seed 4 is k-NN with Accuracy: 0.9778\n",
      "\n",
      "SEED = 10\n",
      "\n",
      "\n",
      "Model: k-NN\n",
      "Accuracy: 0.9778\n",
      "F1 Score: 0.9784\n",
      "Recall: 0.9804\n",
      "Precision: 0.9778\n",
      "\n",
      "Model: Decision Tree\n",
      "Accuracy: 0.9778\n",
      "F1 Score: 0.9781\n",
      "Recall: 0.9762\n",
      "Precision: 0.9815\n",
      "\n",
      "Model: Logistic Regression\n",
      "Accuracy: 1.0000\n",
      "F1 Score: 1.0000\n",
      "Recall: 1.0000\n",
      "Precision: 1.0000\n",
      "\n",
      "Model: Random Forest\n",
      "Accuracy: 0.9778\n",
      "F1 Score: 0.9784\n",
      "Recall: 0.9804\n",
      "Precision: 0.9778\n",
      "\n",
      "Model: SVC\n",
      "Accuracy: 1.0000\n",
      "F1 Score: 1.0000\n",
      "Recall: 1.0000\n",
      "Precision: 1.0000\n",
      "\n",
      "Best Model of seed 10 is Logistic Regression with Accuracy: 1.0000\n",
      "\n",
      "SEED = 24\n",
      "\n",
      "\n",
      "Model: k-NN\n",
      "Accuracy: 0.9778\n",
      "F1 Score: 0.9765\n",
      "Recall: 0.9722\n",
      "Precision: 0.9825\n",
      "\n",
      "Model: Decision Tree\n",
      "Accuracy: 0.9778\n",
      "F1 Score: 0.9765\n",
      "Recall: 0.9722\n",
      "Precision: 0.9825\n",
      "\n",
      "Model: Logistic Regression\n",
      "Accuracy: 0.9778\n",
      "F1 Score: 0.9765\n",
      "Recall: 0.9722\n",
      "Precision: 0.9825\n",
      "\n",
      "Model: Random Forest\n",
      "Accuracy: 0.9778\n",
      "F1 Score: 0.9765\n",
      "Recall: 0.9722\n",
      "Precision: 0.9825\n",
      "\n",
      "Model: SVC\n",
      "Accuracy: 0.9778\n",
      "F1 Score: 0.9765\n",
      "Recall: 0.9722\n",
      "Precision: 0.9825\n",
      "\n",
      "Best Model of seed 24 is k-NN with Accuracy: 0.9778\n",
      "\n",
      "SEED = 42\n",
      "\n",
      "\n",
      "Model: k-NN\n",
      "Accuracy: 1.0000\n",
      "F1 Score: 1.0000\n",
      "Recall: 1.0000\n",
      "Precision: 1.0000\n",
      "\n",
      "Model: Decision Tree\n",
      "Accuracy: 1.0000\n",
      "F1 Score: 1.0000\n",
      "Recall: 1.0000\n",
      "Precision: 1.0000\n",
      "\n",
      "Model: Logistic Regression\n",
      "Accuracy: 1.0000\n",
      "F1 Score: 1.0000\n",
      "Recall: 1.0000\n",
      "Precision: 1.0000\n",
      "\n",
      "Model: Random Forest\n",
      "Accuracy: 1.0000\n",
      "F1 Score: 1.0000\n",
      "Recall: 1.0000\n",
      "Precision: 1.0000\n",
      "\n",
      "Model: SVC\n",
      "Accuracy: 1.0000\n",
      "F1 Score: 1.0000\n",
      "Recall: 1.0000\n",
      "Precision: 1.0000\n",
      "\n",
      "Best Model of seed 42 is k-NN with Accuracy: 1.0000\n",
      "\n"
     ]
    }
   ],
   "source": [
    "def compare_classifiers(data):\n",
    "    models = [\n",
    "        (\"k-NN\", KNeighborsClassifier(n_neighbors = 5, metric = 'minkowski', p = 2)),\n",
    "        (\"Decision Tree\", DecisionTreeClassifier(random_state = 4)),\n",
    "        (\"Logistic Regression\", LogisticRegression()),\n",
    "        (\"Random Forest\", RandomForestClassifier(n_estimators = 20, max_depth = 20, criterion = 'entropy', min_samples_split = 3)),\n",
    "        (\"SVC\", SVC(kernel='rbf', gamma='auto'))\n",
    "    ]\n",
    "    seed = [4,10,24,42]\n",
    "    model_occurrence = []\n",
    "    for i in seed:\n",
    "        y = data['Classification']\n",
    "        x = data.drop(['Classification', 'SW'], axis = 1)\n",
    "        x_train, x_test, y_train, y_test = train_test_split(x, y, test_size = 0.3, random_state = i)\n",
    "        best_model_name = None\n",
    "        best_accuracy = 0.0\n",
    "        print(f\"SEED = { i}\\n\")\n",
    "        for name, model in models:\n",
    "            model.fit(x_train, y_train)\n",
    "            y_pred = model.predict(x_test)\n",
    "        \n",
    "            accuracy = accuracy_score(y_test, y_pred)\n",
    "        \n",
    "            if accuracy > best_accuracy:\n",
    "                best_model_name = name\n",
    "                best_accuracy = accuracy\n",
    "            \n",
    "            print(f\"\\nModel: {name}\")\n",
    "            print(f\"Accuracy: {accuracy:.4f}\")\n",
    "            print(f\"F1 Score: {f1_score(y_test, y_pred, average='macro'):.4f}\")\n",
    "            print(f\"Recall: {recall_score(y_test, y_pred, average='macro'):.4f}\")\n",
    "            print(f\"Precision: {precision_score(y_test, y_pred, average='macro'):.4f}\")\n",
    "        print(f\"\\nBest Model of seed {i} is {best_model_name} with Accuracy: {best_accuracy:.4f}\\n\")\n",
    "        model_occurrence.append(best_model_name)\n",
    "    return model_occurrence\n",
    "model_occurrence = compare_classifiers(data)"
   ]
  },
  {
   "cell_type": "code",
   "execution_count": 35,
   "id": "5894522c",
   "metadata": {},
   "outputs": [
    {
     "data": {
      "text/plain": [
       "0                  \n",
       "k-NN                   3\n",
       "Logistic Regression    1\n",
       "Name: count, dtype: int64"
      ]
     },
     "execution_count": 35,
     "metadata": {},
     "output_type": "execute_result"
    }
   ],
   "source": [
    "model_occurrence = pd.DataFrame(model_occurrence)\n",
    "model_occurrence.value_counts()"
   ]
  },
  {
   "cell_type": "markdown",
   "id": "150266fc",
   "metadata": {},
   "source": [
    "3. RANDOM APPROACH (II) : APPROACH 1 WITH ACCURACY PARAMETER 'weighted'"
   ]
  },
  {
   "cell_type": "code",
   "execution_count": 36,
   "id": "56c41b2e",
   "metadata": {
    "scrolled": false
   },
   "outputs": [
    {
     "name": "stdout",
     "output_type": "stream",
     "text": [
      "SEED = 4\n",
      "\n",
      "\n",
      "Model: k-NN\n",
      "Accuracy: 0.9778\n",
      "F1 Score: 0.9776\n",
      "Recall: 0.9778\n",
      "Precision: 0.9793\n",
      "\n",
      "Model: Decision Tree\n",
      "Accuracy: 0.9778\n",
      "F1 Score: 0.9776\n",
      "Recall: 0.9778\n",
      "Precision: 0.9793\n",
      "\n",
      "Model: Logistic Regression\n",
      "Accuracy: 0.9778\n",
      "F1 Score: 0.9776\n",
      "Recall: 0.9778\n",
      "Precision: 0.9793\n",
      "\n",
      "Model: Random Forest\n",
      "Accuracy: 0.9778\n",
      "F1 Score: 0.9776\n",
      "Recall: 0.9778\n",
      "Precision: 0.9793\n",
      "\n",
      "Model: SVC\n",
      "Accuracy: 0.9778\n",
      "F1 Score: 0.9776\n",
      "Recall: 0.9778\n",
      "Precision: 0.9793\n",
      "\n",
      "Best Model of seed 4 is k-NN with Accuracy: 0.9778\n",
      "\n",
      "SEED = 10\n",
      "\n",
      "\n",
      "Model: k-NN\n",
      "Accuracy: 0.9778\n",
      "F1 Score: 0.9778\n",
      "Recall: 0.9778\n",
      "Precision: 0.9793\n",
      "\n",
      "Model: Decision Tree\n",
      "Accuracy: 0.9778\n",
      "F1 Score: 0.9777\n",
      "Recall: 0.9778\n",
      "Precision: 0.9790\n",
      "\n",
      "Model: Logistic Regression\n",
      "Accuracy: 1.0000\n",
      "F1 Score: 1.0000\n",
      "Recall: 1.0000\n",
      "Precision: 1.0000\n",
      "\n",
      "Model: Random Forest\n",
      "Accuracy: 1.0000\n",
      "F1 Score: 1.0000\n",
      "Recall: 1.0000\n",
      "Precision: 1.0000\n",
      "\n",
      "Model: SVC\n",
      "Accuracy: 1.0000\n",
      "F1 Score: 1.0000\n",
      "Recall: 1.0000\n",
      "Precision: 1.0000\n",
      "\n",
      "Best Model of seed 10 is Logistic Regression with Accuracy: 1.0000\n",
      "\n",
      "SEED = 24\n",
      "\n",
      "\n",
      "Model: k-NN\n",
      "Accuracy: 0.9778\n",
      "F1 Score: 0.9776\n",
      "Recall: 0.9778\n",
      "Precision: 0.9789\n",
      "\n",
      "Model: Decision Tree\n",
      "Accuracy: 0.9778\n",
      "F1 Score: 0.9776\n",
      "Recall: 0.9778\n",
      "Precision: 0.9789\n",
      "\n",
      "Model: Logistic Regression\n",
      "Accuracy: 0.9778\n",
      "F1 Score: 0.9776\n",
      "Recall: 0.9778\n",
      "Precision: 0.9789\n",
      "\n",
      "Model: Random Forest\n",
      "Accuracy: 0.9556\n",
      "F1 Score: 0.9556\n",
      "Recall: 0.9556\n",
      "Precision: 0.9556\n",
      "\n",
      "Model: SVC\n",
      "Accuracy: 0.9778\n",
      "F1 Score: 0.9776\n",
      "Recall: 0.9778\n",
      "Precision: 0.9789\n",
      "\n",
      "Best Model of seed 24 is k-NN with Accuracy: 0.9778\n",
      "\n",
      "SEED = 42\n",
      "\n",
      "\n",
      "Model: k-NN\n",
      "Accuracy: 1.0000\n",
      "F1 Score: 1.0000\n",
      "Recall: 1.0000\n",
      "Precision: 1.0000\n",
      "\n",
      "Model: Decision Tree\n",
      "Accuracy: 1.0000\n",
      "F1 Score: 1.0000\n",
      "Recall: 1.0000\n",
      "Precision: 1.0000\n",
      "\n",
      "Model: Logistic Regression\n",
      "Accuracy: 1.0000\n",
      "F1 Score: 1.0000\n",
      "Recall: 1.0000\n",
      "Precision: 1.0000\n",
      "\n",
      "Model: Random Forest\n",
      "Accuracy: 1.0000\n",
      "F1 Score: 1.0000\n",
      "Recall: 1.0000\n",
      "Precision: 1.0000\n",
      "\n",
      "Model: SVC\n",
      "Accuracy: 1.0000\n",
      "F1 Score: 1.0000\n",
      "Recall: 1.0000\n",
      "Precision: 1.0000\n",
      "\n",
      "Best Model of seed 42 is k-NN with Accuracy: 1.0000\n",
      "\n"
     ]
    }
   ],
   "source": [
    "def compare_classifiers(data):\n",
    "    models = [\n",
    "        (\"k-NN\", KNeighborsClassifier(n_neighbors = 5, metric = 'minkowski', p = 2)),\n",
    "        (\"Decision Tree\", DecisionTreeClassifier(random_state = 4)),\n",
    "        (\"Logistic Regression\", LogisticRegression()),\n",
    "        (\"Random Forest\", RandomForestClassifier(n_estimators = 20, max_depth = 20, criterion = 'entropy', min_samples_split = 3)),\n",
    "        (\"SVC\", SVC(kernel='rbf', gamma='auto'))\n",
    "    ]\n",
    "    seed = [4,10,24,42]\n",
    "    model_occurrence = []\n",
    "    for i in seed:\n",
    "        y = data['Classification']\n",
    "        x = data.drop(['Classification', 'SW'], axis = 1)\n",
    "        x_train, x_test, y_train, y_test = train_test_split(x, y, test_size = 0.3, random_state = i)\n",
    "        best_model_name = None\n",
    "        best_accuracy = 0.0\n",
    "        print(f\"SEED = { i}\\n\")\n",
    "        for name, model in models:\n",
    "            model.fit(x_train, y_train)\n",
    "            y_pred = model.predict(x_test)\n",
    "        \n",
    "            accuracy = accuracy_score(y_test, y_pred)\n",
    "        \n",
    "            if accuracy > best_accuracy:\n",
    "                best_model_name = name\n",
    "                best_accuracy = accuracy\n",
    "            \n",
    "            print(f\"\\nModel: {name}\")\n",
    "            print(f\"Accuracy: {accuracy:.4f}\")\n",
    "            print(f\"F1 Score: {f1_score(y_test, y_pred, average='weighted'):.4f}\")\n",
    "            print(f\"Recall: {recall_score(y_test, y_pred, average='weighted'):.4f}\")\n",
    "            print(f\"Precision: {precision_score(y_test, y_pred, average='weighted'):.4f}\")\n",
    "        print(f\"\\nBest Model of seed {i} is {best_model_name} with Accuracy: {best_accuracy:.4f}\\n\")\n",
    "        model_occurrence.append(best_model_name)\n",
    "    return model_occurrence\n",
    "model_occurrence = compare_classifiers(data)"
   ]
  },
  {
   "cell_type": "code",
   "execution_count": 37,
   "id": "918c6811",
   "metadata": {},
   "outputs": [
    {
     "data": {
      "text/plain": [
       "['k-NN', 'Logistic Regression', 'k-NN', 'k-NN']"
      ]
     },
     "execution_count": 37,
     "metadata": {},
     "output_type": "execute_result"
    }
   ],
   "source": [
    "model_occurrence"
   ]
  },
  {
   "cell_type": "code",
   "execution_count": 38,
   "id": "18c8a3a5",
   "metadata": {
    "scrolled": false
   },
   "outputs": [
    {
     "name": "stdout",
     "output_type": "stream",
     "text": [
      "SEED = 4\n",
      "\n",
      "\n",
      "Model: k-NN\n",
      "Accuracy: 0.9778\n",
      "F1 Score: 0.9776\n",
      "Recall: 0.9778\n",
      "Precision: 0.9793\n",
      "\n",
      "Model: Decision Tree\n",
      "Accuracy: 0.9778\n",
      "F1 Score: 0.9776\n",
      "Recall: 0.9778\n",
      "Precision: 0.9793\n",
      "\n",
      "Model: Logistic Regression\n",
      "Accuracy: 0.9778\n",
      "F1 Score: 0.9776\n",
      "Recall: 0.9778\n",
      "Precision: 0.9793\n",
      "\n",
      "Model: Random Forest\n",
      "Accuracy: 0.9556\n",
      "F1 Score: 0.9556\n",
      "Recall: 0.9556\n",
      "Precision: 0.9556\n",
      "\n",
      "Model: SVC\n",
      "Accuracy: 0.9778\n",
      "F1 Score: 0.9776\n",
      "Recall: 0.9778\n",
      "Precision: 0.9793\n",
      "\n",
      "Best Model of seed 4 is k-NN with Accuracy: 0.9778\n",
      "\n",
      "SEED = 10\n",
      "\n",
      "\n",
      "Model: k-NN\n",
      "Accuracy: 0.9778\n",
      "F1 Score: 0.9778\n",
      "Recall: 0.9778\n",
      "Precision: 0.9793\n",
      "\n",
      "Model: Decision Tree\n",
      "Accuracy: 0.9778\n",
      "F1 Score: 0.9777\n",
      "Recall: 0.9778\n",
      "Precision: 0.9790\n",
      "\n",
      "Model: Logistic Regression\n",
      "Accuracy: 1.0000\n",
      "F1 Score: 1.0000\n",
      "Recall: 1.0000\n",
      "Precision: 1.0000\n",
      "\n",
      "Model: Random Forest\n",
      "Accuracy: 0.9778\n",
      "F1 Score: 0.9778\n",
      "Recall: 0.9778\n",
      "Precision: 0.9793\n",
      "\n",
      "Model: SVC\n",
      "Accuracy: 1.0000\n",
      "F1 Score: 1.0000\n",
      "Recall: 1.0000\n",
      "Precision: 1.0000\n",
      "\n",
      "Best Model of seed 10 is Logistic Regression with Accuracy: 1.0000\n",
      "\n",
      "SEED = 24\n",
      "\n",
      "\n",
      "Model: k-NN\n",
      "Accuracy: 0.9778\n",
      "F1 Score: 0.9776\n",
      "Recall: 0.9778\n",
      "Precision: 0.9789\n",
      "\n",
      "Model: Decision Tree\n",
      "Accuracy: 0.9778\n",
      "F1 Score: 0.9776\n",
      "Recall: 0.9778\n",
      "Precision: 0.9789\n",
      "\n",
      "Model: Logistic Regression\n",
      "Accuracy: 0.9778\n",
      "F1 Score: 0.9776\n",
      "Recall: 0.9778\n",
      "Precision: 0.9789\n",
      "\n",
      "Model: Random Forest\n",
      "Accuracy: 0.9556\n",
      "F1 Score: 0.9556\n",
      "Recall: 0.9556\n",
      "Precision: 0.9556\n",
      "\n",
      "Model: SVC\n",
      "Accuracy: 0.9778\n",
      "F1 Score: 0.9776\n",
      "Recall: 0.9778\n",
      "Precision: 0.9789\n",
      "\n",
      "Best Model of seed 24 is k-NN with Accuracy: 0.9778\n",
      "\n",
      "SEED = 42\n",
      "\n",
      "\n",
      "Model: k-NN\n",
      "Accuracy: 1.0000\n",
      "F1 Score: 1.0000\n",
      "Recall: 1.0000\n",
      "Precision: 1.0000\n",
      "\n",
      "Model: Decision Tree\n",
      "Accuracy: 1.0000\n",
      "F1 Score: 1.0000\n",
      "Recall: 1.0000\n",
      "Precision: 1.0000\n",
      "\n",
      "Model: Logistic Regression\n",
      "Accuracy: 1.0000\n",
      "F1 Score: 1.0000\n",
      "Recall: 1.0000\n",
      "Precision: 1.0000\n",
      "\n",
      "Model: Random Forest\n",
      "Accuracy: 1.0000\n",
      "F1 Score: 1.0000\n",
      "Recall: 1.0000\n",
      "Precision: 1.0000\n",
      "\n",
      "Model: SVC\n",
      "Accuracy: 1.0000\n",
      "F1 Score: 1.0000\n",
      "Recall: 1.0000\n",
      "Precision: 1.0000\n",
      "\n",
      "Best Model of seed 42 is k-NN with Accuracy: 1.0000\n",
      "\n"
     ]
    }
   ],
   "source": [
    "def compare_classifiers(data):\n",
    "    models = [\n",
    "        (\"k-NN\", KNeighborsClassifier(n_neighbors = 5, metric = 'minkowski', p = 2)),\n",
    "        (\"Decision Tree\", DecisionTreeClassifier(random_state = 4)),\n",
    "        (\"Logistic Regression\", LogisticRegression()),\n",
    "        (\"Random Forest\", RandomForestClassifier(n_estimators = 20, max_depth = 20, criterion = 'entropy', min_samples_split = 3)),\n",
    "        (\"SVC\", SVC(kernel='rbf', gamma='auto'))\n",
    "    ]\n",
    "    seed = [4,10,24,42]\n",
    "    model_occurrence = []\n",
    "    for i in seed:\n",
    "        y = data['Classification']\n",
    "        x = data.drop(['Classification', 'SW'], axis = 1)\n",
    "        x_train, x_test, y_train, y_test = train_test_split(x, y, test_size = 0.3, random_state = i)\n",
    "        best_model_name = None\n",
    "        best_accuracy = 0.0\n",
    "        print(f\"SEED = { i}\\n\")\n",
    "        for name, model in models:\n",
    "            model.fit(x_train, y_train)\n",
    "            y_pred = model.predict(x_test)\n",
    "        \n",
    "            accuracy = accuracy_score(y_test, y_pred)\n",
    "        \n",
    "            if accuracy > best_accuracy:\n",
    "                best_model_name = name\n",
    "                best_accuracy = accuracy\n",
    "            \n",
    "            print(f\"\\nModel: {name}\")\n",
    "            print(f\"Accuracy: {accuracy:.4f}\")\n",
    "            print(f\"F1 Score: {f1_score(y_test, y_pred, average='weighted'):.4f}\")\n",
    "            print(f\"Recall: {recall_score(y_test, y_pred, average='weighted'):.4f}\")\n",
    "            print(f\"Precision: {precision_score(y_test, y_pred, average='weighted'):.4f}\")\n",
    "        print(f\"\\nBest Model of seed {i} is {best_model_name} with Accuracy: {best_accuracy:.4f}\\n\")\n",
    "        model_occurrence.append(best_model_name)\n",
    "    return model_occurrence\n",
    "model_occurrence = compare_classifiers(data)"
   ]
  },
  {
   "cell_type": "code",
   "execution_count": 39,
   "id": "885da4ad",
   "metadata": {},
   "outputs": [
    {
     "data": {
      "text/plain": [
       "Model\n",
       "k-NN                   3\n",
       "Logistic Regression    1\n",
       "Name: count, dtype: int64"
      ]
     },
     "execution_count": 39,
     "metadata": {},
     "output_type": "execute_result"
    }
   ],
   "source": [
    "model_occurrence = pd.DataFrame(model_occurrence, columns = ['Model'])\n",
    "model_occurrence['Model'].value_counts()"
   ]
  },
  {
   "cell_type": "markdown",
   "id": "7d65a9c9",
   "metadata": {},
   "source": [
    "# RESULT \n",
    "\n",
    "The data seems to be of too much convinience and is not fit for modelling since its overfitting on tested random seed of 42.\n",
    "In this approach, however, Decision Tree, k-NN and Logistic Regression make the best outcomes."
   ]
  },
  {
   "cell_type": "code",
   "execution_count": 40,
   "id": "264f986c",
   "metadata": {},
   "outputs": [
    {
     "name": "stdout",
     "output_type": "stream",
     "text": [
      "\n",
      "Model: Logistic Regression\n",
      "Accuracy: 0.9619\n",
      "F1 Score: 0.9619\n",
      "Recall: 0.9619\n",
      "Training Time: 0.10 seconds\n",
      "\n",
      "Model: k-NN\n",
      "Accuracy: 0.9714\n",
      "F1 Score: 0.9714\n",
      "Recall: 0.9714\n",
      "Training Time: 0.03 seconds\n",
      "\n",
      "Model: SVC\n",
      "Accuracy: 0.9714\n",
      "F1 Score: 0.9714\n",
      "Recall: 0.9714\n",
      "Training Time: 0.02 seconds\n",
      "\n",
      "Model: Decision Tree\n",
      "Accuracy: 0.9333\n",
      "F1 Score: 0.9331\n",
      "Recall: 0.9333\n",
      "Training Time: 0.02 seconds\n",
      "\n",
      "Model: Random Forest\n",
      "Accuracy: 0.9524\n",
      "F1 Score: 0.9523\n",
      "Recall: 0.9524\n",
      "Training Time: 0.15 seconds\n",
      "\n",
      "Best Model(s): k-NN, SVC with Accuracy: 0.9714 and F1 Score: 0.9714\n"
     ]
    }
   ],
   "source": [
    "##OUT OF SYLLABUS APPROACH(?)\n",
    "\n",
    "from sklearn.model_selection import cross_val_predict\n",
    "import time\n",
    "models = [\n",
    "    (\"Logistic Regression\", LogisticRegression()),\n",
    "    (\"k-NN\", KNeighborsClassifier(n_neighbors=5, metric='minkowski', p=2)),\n",
    "    (\"SVC\", SVC(kernel='rbf', gamma='auto')),\n",
    "    (\"Decision Tree\", DecisionTreeClassifier(random_state=4)),\n",
    "    (\"Random Forest\", RandomForestClassifier(n_estimators=20, max_depth=20, criterion='entropy', min_samples_split=3))\n",
    "]\n",
    "\n",
    "accuracy_scores = {}\n",
    "f1_scores = {}\n",
    "recall_scores = {}\n",
    "training_times = {}\n",
    "\n",
    "for model_name, model in models:\n",
    "    start_time = time.time() \n",
    "    y_pred = cross_val_predict(model, x_train, y_train, cv=5)\n",
    "    end_time = time.time()\n",
    "    training_time = end_time - start_time\n",
    "\n",
    "    accuracy = accuracy_score(y_train, y_pred)\n",
    "    f1 = f1_score(y_train, y_pred, average='weighted')\n",
    "    recall = recall_score(y_train, y_pred, average='weighted')\n",
    "\n",
    "    accuracy_scores[model_name] = accuracy\n",
    "    f1_scores[model_name] = f1\n",
    "    recall_scores[model_name] = recall\n",
    "    training_times[model_name] = training_time\n",
    "\n",
    "    print(f\"\\nModel: {model_name}\")\n",
    "    print(f\"Accuracy: {accuracy:.4f}\")\n",
    "    print(f\"F1 Score: {f1:.4f}\")\n",
    "    print(f\"Recall: {recall:.4f}\")\n",
    "    print(f\"Training Time: {training_time:.2f} seconds\")\n",
    "\n",
    "best_models = []\n",
    "best_accuracy = max(accuracy_scores.values())\n",
    "max_f1_score = 0.0\n",
    "\n",
    "for model_name, accuracy in accuracy_scores.items():\n",
    "    if accuracy == best_accuracy:\n",
    "        f1 = f1_scores[model_name]\n",
    "        max_f1_score = max(max_f1_score, f1)\n",
    "\n",
    "for model_name, accuracy in accuracy_scores.items():\n",
    "    f1 = f1_scores[model_name]\n",
    "    if accuracy == best_accuracy and f1 == max_f1_score:\n",
    "        best_models.append(model_name)\n",
    "print(f\"\\nBest Model(s): {', '.join(best_models)} with Accuracy: {best_accuracy:.4f} and F1 Score: {max_f1_score:.4f}\")"
   ]
  },
  {
   "cell_type": "code",
   "execution_count": 41,
   "id": "48859351",
   "metadata": {},
   "outputs": [
    {
     "name": "stdout",
     "output_type": "stream",
     "text": [
      "\n",
      "Model: Logistic Regression\n",
      "Accuracy: 0.9619\n",
      "F1 Score: 0.9648\n",
      "Recall: 0.9648\n",
      "Training Time: 0.08 seconds\n",
      "\n",
      "Model: k-NN\n",
      "Accuracy: 0.9714\n",
      "F1 Score: 0.9736\n",
      "Recall: 0.9741\n",
      "Training Time: 0.02 seconds\n",
      "\n",
      "Model: SVC\n",
      "Accuracy: 0.9714\n",
      "F1 Score: 0.9736\n",
      "Recall: 0.9741\n",
      "Training Time: 0.02 seconds\n",
      "\n",
      "Model: Decision Tree\n",
      "Accuracy: 0.9333\n",
      "F1 Score: 0.9381\n",
      "Recall: 0.9370\n",
      "Training Time: 0.02 seconds\n",
      "\n",
      "Model: Random Forest\n",
      "Accuracy: 0.9429\n",
      "F1 Score: 0.9470\n",
      "Recall: 0.9463\n",
      "Training Time: 0.15 seconds\n",
      "\n",
      "Best Model(s): k-NN, SVC with Accuracy: 0.9714 and F1 Score: 0.9736\n"
     ]
    }
   ],
   "source": [
    "##SAME APPROACH WITH PARAMETER 'macro'\n",
    "\n",
    "from sklearn.model_selection import cross_val_predict\n",
    "import time\n",
    "models = [\n",
    "    (\"Logistic Regression\", LogisticRegression()),\n",
    "    (\"k-NN\", KNeighborsClassifier(n_neighbors=5, metric='minkowski', p=2)),\n",
    "    (\"SVC\", SVC(kernel='rbf', gamma='auto')),\n",
    "    (\"Decision Tree\", DecisionTreeClassifier(random_state=4)),\n",
    "    (\"Random Forest\", RandomForestClassifier(n_estimators=20, max_depth=20, criterion='entropy', min_samples_split=3))\n",
    "]\n",
    "\n",
    "accuracy_scores = {}\n",
    "f1_scores = {}\n",
    "recall_scores = {}\n",
    "training_times = {}\n",
    "\n",
    "for model_name, model in models:\n",
    "    start_time = time.time() \n",
    "    y_pred = cross_val_predict(model, x_train, y_train, cv=5)\n",
    "    end_time = time.time()\n",
    "    training_time = end_time - start_time\n",
    "\n",
    "    accuracy = accuracy_score(y_train, y_pred)\n",
    "    f1 = f1_score(y_train, y_pred, average='macro')\n",
    "    recall = recall_score(y_train, y_pred, average='macro')\n",
    "\n",
    "    accuracy_scores[model_name] = accuracy\n",
    "    f1_scores[model_name] = f1\n",
    "    recall_scores[model_name] = recall\n",
    "    training_times[model_name] = training_time\n",
    "\n",
    "    print(f\"\\nModel: {model_name}\")\n",
    "    print(f\"Accuracy: {accuracy:.4f}\")\n",
    "    print(f\"F1 Score: {f1:.4f}\")\n",
    "    print(f\"Recall: {recall:.4f}\")\n",
    "    print(f\"Training Time: {training_time:.2f} seconds\")\n",
    "\n",
    "best_models = []\n",
    "best_accuracy = max(accuracy_scores.values())\n",
    "max_f1_score = 0.0\n",
    "\n",
    "for model_name, accuracy in accuracy_scores.items():\n",
    "    if accuracy == best_accuracy:\n",
    "        f1 = f1_scores[model_name]\n",
    "        max_f1_score = max(max_f1_score, f1)\n",
    "\n",
    "for model_name, accuracy in accuracy_scores.items():\n",
    "    f1 = f1_scores[model_name]\n",
    "    if accuracy == best_accuracy and f1 == max_f1_score:\n",
    "        best_models.append(model_name)\n",
    "print(f\"\\nBest Model(s): {', '.join(best_models)} with Accuracy: {best_accuracy:.4f} and F1 Score: {max_f1_score:.4f}\")"
   ]
  },
  {
   "cell_type": "markdown",
   "id": "af5d79d5",
   "metadata": {},
   "source": [
    "# FINAL VERDICT"
   ]
  },
  {
   "cell_type": "code",
   "execution_count": 42,
   "id": "6ebf636d",
   "metadata": {},
   "outputs": [],
   "source": [
    "#THe k-NN and Decision Tree appears to be presnt on all places including the last one. The best classification\n",
    "#will be k-NN based on the occurrence.\n",
    "\n",
    "##KEY NOTES:- The results are very dependent on the seed."
   ]
  },
  {
   "cell_type": "code",
   "execution_count": null,
   "id": "e3321c39",
   "metadata": {},
   "outputs": [],
   "source": []
  }
 ],
 "metadata": {
  "kernelspec": {
   "display_name": "Python 3 (ipykernel)",
   "language": "python",
   "name": "python3"
  },
  "language_info": {
   "codemirror_mode": {
    "name": "ipython",
    "version": 3
   },
   "file_extension": ".py",
   "mimetype": "text/x-python",
   "name": "python",
   "nbconvert_exporter": "python",
   "pygments_lexer": "ipython3",
   "version": "3.11.5"
  }
 },
 "nbformat": 4,
 "nbformat_minor": 5
}
