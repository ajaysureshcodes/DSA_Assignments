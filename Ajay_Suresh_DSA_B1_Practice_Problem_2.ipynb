{
  "nbformat": 4,
  "nbformat_minor": 0,
  "metadata": {
    "colab": {
      "provenance": []
    },
    "kernelspec": {
      "name": "python3",
      "display_name": "Python 3"
    },
    "language_info": {
      "name": "python"
    }
  },
  "cells": [
    {
      "cell_type": "markdown",
      "source": [
        "1. **Write a Python program to accept a string value from the user and display\n",
        "the count of each character in that string.**"
      ],
      "metadata": {
        "id": "jpBwYuHXf6Lq"
      }
    },
    {
      "cell_type": "code",
      "execution_count": null,
      "metadata": {
        "colab": {
          "base_uri": "https://localhost:8080/"
        },
        "id": "viretAlDZdnF",
        "outputId": "25d4a478-e240-4c75-d181-ab03bb59fca6"
      },
      "outputs": [
        {
          "output_type": "stream",
          "name": "stdout",
          "text": [
            "Enter the string :Johnson\n",
            "Count of all characters in Johnson is :\n",
            "  {'J': 1, 'o': 2, 'h': 1, 'n': 2, 's': 1}\n"
          ]
        }
      ],
      "source": [
        "char_input = input('Enter the string :')\n",
        "count = {}\n",
        "for i in char_input:\n",
        "    if i in count:\n",
        "        count[i] += 1\n",
        "    else:\n",
        "        count[i] = 1\n",
        "print(\"Count of all characters in\", char_input, \"is :\\n \", count)"
      ]
    },
    {
      "cell_type": "markdown",
      "source": [
        "2. **Write a Python function to find the maximum of three numbers Sample\n",
        "input.**"
      ],
      "metadata": {
        "id": "VBsg6aCWoyeZ"
      }
    },
    {
      "cell_type": "code",
      "source": [
        "def big_num(a,b,c):\n",
        "    if (a >= b) and (a >= c):\n",
        "        maxnum = a\n",
        "    elif (b >= c):\n",
        "        maxnum = b\n",
        "    else:\n",
        "        maxnum = c\n",
        "    return(maxnum)\n",
        "a,b,c = input('Enter three numbers: ').split()\n",
        "print(big_num(a,b,c))"
      ],
      "metadata": {
        "colab": {
          "base_uri": "https://localhost:8080/"
        },
        "id": "xRlz1W25epuo",
        "outputId": "d94d2081-dff5-4534-ffe0-6b2c54ac531e"
      },
      "execution_count": null,
      "outputs": [
        {
          "output_type": "stream",
          "name": "stdout",
          "text": [
            "Enter three numbers: 89 99 999\n",
            "999\n"
          ]
        }
      ]
    },
    {
      "cell_type": "markdown",
      "source": [
        "3. **Write a Python function called exponent(base,exp) that returns an\n",
        "integer value of base raises to the power of exp.**"
      ],
      "metadata": {
        "id": "3dmO4o9dtBNv"
      }
    },
    {
      "cell_type": "code",
      "source": [
        "def expo(a,b):\n",
        "  return((a**b))\n",
        "a = int(input(\"Enter the base: \"))\n",
        "b = int(input(\"Enter the exponent: \"))\n",
        "print(expo(a,b))"
      ],
      "metadata": {
        "colab": {
          "base_uri": "https://localhost:8080/"
        },
        "id": "7MPcUxeEqfQZ",
        "outputId": "4726a893-6f50-4516-cd87-015999859991"
      },
      "execution_count": null,
      "outputs": [
        {
          "output_type": "stream",
          "name": "stdout",
          "text": [
            "Enter the base: 5\n",
            "Enter the exponent: 3\n",
            "125\n"
          ]
        }
      ]
    },
    {
      "cell_type": "markdown",
      "source": [
        "4. **Write a Python function that takes a positive integer and returns the sum\n",
        "of the cube of all the positive integers smaller than the specified number.**"
      ],
      "metadata": {
        "id": "t8iL1QsJtObX"
      }
    },
    {
      "cell_type": "code",
      "source": [
        "def cube_sum(a):\n",
        "  sum = 0\n",
        "  for i in range(a):\n",
        "      sum += (i**3)\n",
        "  return(sum)\n",
        "a = int(input('Enter a number : '))\n",
        "print(cube_sum(a))"
      ],
      "metadata": {
        "colab": {
          "base_uri": "https://localhost:8080/"
        },
        "id": "58LyrB1XrwZ-",
        "outputId": "c1f85937-98f1-4c44-df6e-8bc76a4725db"
      },
      "execution_count": null,
      "outputs": [
        {
          "output_type": "stream",
          "name": "stdout",
          "text": [
            "Enter a number : 4\n",
            "36\n"
          ]
        }
      ]
    },
    {
      "cell_type": "markdown",
      "source": [
        "5. **Write a Python program which iterates from 1 to 10. For multiples of 2,\n",
        "print “Fizz” instead of the number and for the multiples of 5, print “Buzz”.\n",
        "For numbers which are multiples of both 2 and 5, print “FizzBuzz”.**"
      ],
      "metadata": {
        "id": "zjQGpHiQdwTb"
      }
    },
    {
      "cell_type": "code",
      "source": [
        "def FizzBuzz():\n",
        "  for i in range(1,11):\n",
        "    if (i%2 == 0) and (i%5 == 0):\n",
        "        print('FizzBuzz')\n",
        "    elif i%5 == 0:\n",
        "        print('Buzz')\n",
        "    elif i%2 == 0:\n",
        "        print('Fizz')\n",
        "    else:\n",
        "        print(i)\n",
        "\n",
        "\n",
        "FizzBuzz()"
      ],
      "metadata": {
        "colab": {
          "base_uri": "https://localhost:8080/"
        },
        "id": "4vJBMp5QiIy8",
        "outputId": "0e9350fc-72f3-4924-f5c3-aa9fb7127004"
      },
      "execution_count": null,
      "outputs": [
        {
          "output_type": "stream",
          "name": "stdout",
          "text": [
            "1\n",
            "Fizz\n",
            "3\n",
            "Fizz\n",
            "Buzz\n",
            "Fizz\n",
            "7\n",
            "Fizz\n",
            "9\n",
            "FizzBuzz\n"
          ]
        }
      ]
    },
    {
      "cell_type": "markdown",
      "source": [
        "6. **Write a Python program to find the most frequent item in a list of\n",
        "numbers.**"
      ],
      "metadata": {
        "id": "WxIQuI8AiJ00"
      }
    },
    {
      "cell_type": "code",
      "source": [
        "def freq_num(list1):\n",
        "  count = 0\n",
        "  num = list1[0]\n",
        "  for i in list1:\n",
        "      frequency = list1.count(i)\n",
        "      if(frequency> count):\n",
        "          count = frequency\n",
        "          num = i\n",
        "  return num\n",
        "\n",
        "\n",
        "list1 = list(map(int, input(\"Enter the elements: \").split()))\n",
        "print(\"The most frequent number is\", freq_num(list1))"
      ],
      "metadata": {
        "colab": {
          "base_uri": "https://localhost:8080/"
        },
        "id": "FQWpoJnfumUP",
        "outputId": "b783624a-c83e-4299-acb4-91ea91ad5c86"
      },
      "execution_count": 2,
      "outputs": [
        {
          "output_type": "stream",
          "name": "stdout",
          "text": [
            "Enter the elements: 2 5 4 4 4 7 8 9\n",
            "The most frequent number is 4\n"
          ]
        }
      ]
    },
    {
      "cell_type": "markdown",
      "source": [
        "7. **Write a Python program to find the sum of squares of the numbers in a\n",
        "list.**"
      ],
      "metadata": {
        "id": "1tsGoM3EeAPd"
      }
    },
    {
      "cell_type": "code",
      "source": [
        "def sum_sqr(list1):\n",
        "  sum = 0\n",
        "  for i in list1:\n",
        "    sum += i**2\n",
        "  return(sum)\n",
        "\n",
        "\n",
        "list1 = list(map(int, input(\"Enter the elements: \").split()))\n",
        "print(\"Sum of the squares of numbers in the list is:\", sum_sqr(list1))"
      ],
      "metadata": {
        "colab": {
          "base_uri": "https://localhost:8080/"
        },
        "id": "hL0KQrh20a-8",
        "outputId": "c35fc166-d2e3-41ef-c246-9d28c1cf8ea4"
      },
      "execution_count": null,
      "outputs": [
        {
          "output_type": "stream",
          "name": "stdout",
          "text": [
            "Enter the elements: 6 5 4 3 2 1\n",
            "Sum of the squares of numbers in the list is: 91\n"
          ]
        }
      ]
    },
    {
      "cell_type": "markdown",
      "source": [
        "8. **Write a Python program using for loop that will iterate from 1 to 15. For\n",
        "each iteration, check if the current number is odd or even, and display the\n",
        "message to the screen as odd or even.**"
      ],
      "metadata": {
        "id": "h6EvRnsseWl6"
      }
    },
    {
      "cell_type": "code",
      "source": [
        "def odd_even():\n",
        "  for i in range(1,16):\n",
        "    if i%2 == 0:\n",
        "      print(i,'is even.')\n",
        "    else:\n",
        "      print(i,'is odd.')\n",
        "\n",
        "odd_even()"
      ],
      "metadata": {
        "id": "Y8OZKJQn1OM7",
        "colab": {
          "base_uri": "https://localhost:8080/"
        },
        "outputId": "5f0501f9-178b-4c3b-ac37-201715cdbd5c"
      },
      "execution_count": null,
      "outputs": [
        {
          "output_type": "stream",
          "name": "stdout",
          "text": [
            "1 is odd.\n",
            "2 is even.\n",
            "3 is odd.\n",
            "4 is even.\n",
            "5 is odd.\n",
            "6 is even.\n",
            "7 is odd.\n",
            "8 is even.\n",
            "9 is odd.\n",
            "10 is even.\n",
            "11 is odd.\n",
            "12 is even.\n",
            "13 is odd.\n",
            "14 is even.\n",
            "15 is odd.\n"
          ]
        }
      ]
    },
    {
      "cell_type": "markdown",
      "source": [
        "9. **Write a Python program to convert temperatures to and from Celsius\n",
        "Fahrenheit.**"
      ],
      "metadata": {
        "id": "2oTeaLEXgRCY"
      }
    },
    {
      "cell_type": "markdown",
      "source": [
        "**a). Celsius to Farenheit**"
      ],
      "metadata": {
        "id": "FeZZfdUgYyWS"
      }
    },
    {
      "cell_type": "code",
      "source": [
        "def c_to_f(c):\n",
        "  f = ((9*c)/5) + 32\n",
        "  return(f)\n",
        "\n",
        "c = float(input(\"Enter the temperature in Celsius scale: \"))\n",
        "print(\"Temperature in Farenheit is\", c_to_f(c))"
      ],
      "metadata": {
        "colab": {
          "base_uri": "https://localhost:8080/"
        },
        "id": "g5lbGjJCfLZe",
        "outputId": "98554fd5-5236-43d0-ec3d-6d935f8e5829"
      },
      "execution_count": null,
      "outputs": [
        {
          "output_type": "stream",
          "name": "stdout",
          "text": [
            "Enter the temperature in Celsius scale: -64\n",
            "Temperature in Farenheit is -83.2\n"
          ]
        }
      ]
    },
    {
      "cell_type": "markdown",
      "source": [
        "**b). Farenheit to Celsius**"
      ],
      "metadata": {
        "id": "XWvha0OSY-tZ"
      }
    },
    {
      "cell_type": "code",
      "source": [
        "def f_to_c(f):\n",
        "  c = ((f - 32)*5)/9\n",
        "  return(c)\n",
        "\n",
        "f = float(input(\"Enter the temperature in Farenheit scale: \"))\n",
        "print(\"Temperature in Celsius is\", f_to_c(f))"
      ],
      "metadata": {
        "colab": {
          "base_uri": "https://localhost:8080/"
        },
        "id": "ZodrRVuDgEGe",
        "outputId": "196a530c-5155-4e0c-a6eb-090c3481bf1e"
      },
      "execution_count": null,
      "outputs": [
        {
          "output_type": "stream",
          "name": "stdout",
          "text": [
            "Enter the temperature in Farenheit scale: 41\n",
            "Temperature in Celsius is 5.0\n"
          ]
        }
      ]
    },
    {
      "cell_type": "markdown",
      "source": [
        "**c).**"
      ],
      "metadata": {
        "id": "djz6o775hI55"
      }
    },
    {
      "cell_type": "code",
      "source": [
        "def f_to_c(f):\n",
        "  c = ((f - 32)*5)/9\n",
        "  return(c)\n",
        "\n",
        "def c_to_f(c):\n",
        "  f = ((9*c)/5) + 32\n",
        "  return(f)\n",
        "\n",
        "print(\"**Temparature Converter**\")\n",
        "print('1. Farenheit to Celsius')\n",
        "print('2. Celsius to Farenheit')\n",
        "inp = int(input(\"Select your option(1/2): \"))\n",
        "if inp == 1:\n",
        "  f = float(input(\"Enter the temperature in Farenheit scale: \"))\n",
        "  print(\"Temperature in Celsius is\", f_to_c(f))\n",
        "elif inp == 2:\n",
        "  c = float(input(\"Enter the temperature in Celsius scale: \"))\n",
        "  print(\"Temperature in Farenheit is\", c_to_f(c))"
      ],
      "metadata": {
        "colab": {
          "base_uri": "https://localhost:8080/"
        },
        "id": "IFsXVrOHWhec",
        "outputId": "cfa0605e-cb87-40c4-be6d-3e02495478b9"
      },
      "execution_count": 6,
      "outputs": [
        {
          "output_type": "stream",
          "name": "stdout",
          "text": [
            "**Temparature Converter**\n",
            "1. Farenheit to Celsius\n",
            "2. Celsius to Farenheit\n",
            "Select your option(1/2): 1\n",
            "Enter the temperature in Farenheit scale: 41\n",
            "Temperature in Celsius is 5.0\n"
          ]
        }
      ]
    },
    {
      "cell_type": "markdown",
      "source": [
        "10. **Write a Python function to calculate the factorial of a number.**"
      ],
      "metadata": {
        "id": "JCcMfGEaWikS"
      }
    },
    {
      "cell_type": "code",
      "source": [
        "def facto(a):\n",
        "  sum = 1\n",
        "  for i in range(1,a+1):\n",
        "    sum *=i\n",
        "  return(sum)\n",
        "\n",
        "a = int(input('Enter the number: '))\n",
        "print('The factorial is', facto(a))"
      ],
      "metadata": {
        "colab": {
          "base_uri": "https://localhost:8080/"
        },
        "id": "NHKf5caZg5Sk",
        "outputId": "1f78cd98-6f79-4d69-e38e-2de576429b54"
      },
      "execution_count": null,
      "outputs": [
        {
          "output_type": "stream",
          "name": "stdout",
          "text": [
            "Enter the number: 5\n",
            "The factorial is 120\n"
          ]
        }
      ]
    },
    {
      "cell_type": "code",
      "source": [],
      "metadata": {
        "id": "DK9jf3Dzh4wH"
      },
      "execution_count": null,
      "outputs": []
    }
  ]
}
